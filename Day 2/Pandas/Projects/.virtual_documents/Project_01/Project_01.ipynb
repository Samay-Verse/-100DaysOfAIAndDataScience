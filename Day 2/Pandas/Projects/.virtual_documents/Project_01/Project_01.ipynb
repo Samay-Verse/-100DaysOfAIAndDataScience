

















import pandas as pd
import numpy as np
import matplotlib.pyplot as plt 
import seaborn as sns 
import warnings as warning
warning.filterwarnings('ignore')


#  Load the hotel booking dataset into a pandas DataFrame
df = pd.read_csv('hotel_bookings 2.csv')





df.head()


for x in df.columns:
    print(x)


df.shape


df.info()


df['reservation_status_date'] = pd.to_datetime(df['reservation_status_date'],dayfirst=True)


df.describe(include = 'object')


# df.select_dtypes(include = 'object')


for col in df.describe(include = 'object'):
    print(col)
    print(df[col].unique())
    print('-'*50)
    


for x in  df.select_dtypes(include = 'object'):
    print(x)
    print(df[x].unique())


df.isnull().sum()





df.drop(['agent','company'],axis = 1,inplace = True)
df.dropna(inplace = True)


df.head()


(df.isnull().sum().sum()/(df.shape[0]*df.shape[1]))*100


df.notnull().sum().sum()


df.size


# df.describe()


df = df[df['adr'] < 5000]


df.head()


# for x in df.describe(include = 'object'):
#     print(x)
#     print(df[x].unique())
#     print('-'*50)


# df.groupby()





df['is_canceled'].value_counts(normalize = True)


df['is_canceled'].value_counts(normalize =True)


plt.figure(figsize = (5,4))
plt.title('Reservation Status count')
plt.bar(['Not Canceled','is Canceled'],df['is_canceled'].value_counts(),edgecolor = 'k',width = 0.5)
# sns.barplot(df['is_canceled'].value_counts())
plt.show()


# g = df.groupby('is_canceled')['hotel'].count().plot(kind = 'bar',edgecolor = 'k')


df['hotel'].value_counts()


df.head(2)


plt.figure(figsize = (8,4))
sns.countplot(x = 'hotel', hue = 'is_canceled', data = df, palette = 'Blues')
plt.legend(bbox_to_anchor = (1,1))
plt.xlabel('hotel')
plt.ylabel('Number of resarvation')
plt.legend(['Not canceled','is canceled'])
plt.show()


resort_hotel = df[df['hotel'] == 'Resort Hotel']
resort_hotel['is_canceled'].value_counts(normalize = True)


City_hotel = df[df['hotel'] == 'City Hotel']
City_hotel['is_canceled'].value_counts(normalize = True)


# print(city_hotel)


resort_hotel = resort_hotel.groupby('reservation_status_date')[['adr']].mean()
city_hotel = City_hotel.groupby('reservation_status_date')[['adr']].mean()
plt.figure(figsize = (20,8))
plt.title('Average Daily rate of City and Resort Hotel')
plt.plot(resort_hotel.index, resort_hotel['adr'],label = 'Resort hotel')
plt.plot(city_hotel.index, city_hotel['adr'],label = 'City Hotel')
plt.legend(fontsize = 20)
plt.show()


df['month'] = df['reservation_status_date'].dt.month
plt.figure(figsize = (16,8))
ax1 = sns.countplot(x = 'month', hue = 'is_canceled', data = df, palette = 'bright')
ax1.legend(bbox_to_anchor = (1,1))
plt.xlabel =  'Months'
plt.ylabel = 'Number of resarvation'
plt.legend(['not canceled','is Canceled'])


df.head(2)


canceled_data = df[df['is_canceled'] == 1]
not_canceled_data = df[df['is_canceled'] == 0]


plt.figure(figsize = (15,5))
plt.title('Average Daily Rate',fontsize = 20)
sns.barplot(x = 'month',y = 'adr',data = canceled_data.groupby('month')[['adr']].sum().reset_index(),palette = 'Reds')
plt.show()


top_10_country = canceled_data['country'].value_counts()[:10]


plt.figure(figsize = (8,8))
plt.pie(top_10_country,autopct = '%.2f',labels = top_10_country.index)
plt.show()


df.head(2)


df.columns


df['market_segment'].value_counts()


df['market_segment'].value_counts(normalize = True)


canceled_data['market_segment'].value_counts(normalize = True)


cancelled_data_adr = canceled_data.groupby('reservation_status_date')[['adr']].mean().reset_index()
cancelled_data_adr.sort_values('reservation_status_date',inplace = True)

Not_cancelled_data = not_canceled_data.groupby('reservation_status_date')[['adr']].mean().reset_index()
Not_cancelled_data.sort_values('reservation_status_date',inplace = True)


plt.figure(figsize = (20,6))
plt.title('Average Daily Rate',fontsize = (20))
plt.plot(Not_cancelled_data['reservation_status_date'],Not_cancelled_data['adr'],label = 'Not cancelled')
plt.plot(cancelled_data_adr['reservation_status_date'],cancelled_data_adr['adr'],label = 'Cancelled')
plt.legend()


cancelled_data_adr = cancelled_data_adr[(cancelled_data_adr['reservation_status_date'] > '2016') & (cancelled_data_adr['reservation_status_date'] < '2017-09')]
Not_cancelled_data = Not_cancelled_data[(Not_cancelled_data['reservation_status_date'] > '2016') & (Not_cancelled_data['reservation_status_date'] < '2017-09')]


plt.figure(figsize = (20,6))
plt.title('Average Daily Rate',fontsize = 20)
plt.plot(Not_cancelled_data['reservation_status_date'],Not_cancelled_data['adr'],label = 'Not cancelled')
plt.plot(cancelled_data_adr['reservation_status_date'],cancelled_data_adr['adr'],label = 'Cancelled')
plt.legend()






