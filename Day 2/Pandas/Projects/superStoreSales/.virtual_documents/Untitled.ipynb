import pandas as pd
import numpy as np
import matplotlib.pyplot as plt
import seaborn as sns


df = pd.read_csv('train.csv')


df.drop('Row ID',axis = 1, inplace = True)


df.head(3)


df.info()


df.isnull().sum()



