import pandas as pd
import numpy as np
import matplotlib.pyplot as plt 
import seaborn as sns


df = pd.read_csv('data_science_job.csv')


df.columns


newdf = df[['city_development_index','gender','major_discipline','education_level','experience','target']]


df.isnull().sum().sum()


(df.size /df.isnull().sum().sum() )


df.dropna(inplace = True)


df.head()


newdf.head()


sns.pairplot(data = newdf)


newdf['experience'].unique()


from sklearn.preprocessing import LabelEncoder


obj1 = LabelEncoder()
obj2 = LabelEncoder()
obj3 = LabelEncoder()


obj1.fit(newdf['gender'])
obj2.fit(newdf['major_discipline'])
obj3.fit(newdf['education_level'])


newdf['gender'] = obj1.transform(newdf['gender'])
newdf['major_discipline'] = obj2.transform(newdf['major_discipline'])
newdf['education_level'] = obj3.transform(newdf['education_level'])


newdf.dropna(inplace = True)


x = newdf.iloc[:,:-1]


y = newdf['target']


from sklearn.model_selection import train_test_split


x_train,x_test,y_train,y_test = train_test_split(x,y,test_size=0.2,random_state=42)


from sklearn.linear_model import LogisticRegression


obj = LogisticRegression()


obj.fit(x_train,y_train)


obj.score(x_test,y_test) * 100


newdf.head()


obj.predict([[0.920	,1	,5	,0,	7.0]])


import imblearn


from imblearn.over_sampling import RandomOverSampler


rm = RandomOverSampler()


rm_x,rm_y = rm.fit_resample(x,y)


rm_y.value_counts()


x_train,x_test,y_train,y_test = train_test_split(rm_x,rm_y,test_size=0.2,random_state=42)


obj.fit(x_train,y_train)


obj.score(x_test,y_test)


obj.predict([[0.920	,1	,5	,0,	7.0]])


from sklearn.metrics import confusion_matrix


cf = confusion_matrix(y_test,obj.predict(x_test))


sns.heatmap(data = cf,annot=True,fmt='d')


data = pd.read_csv('india_housing_prices.csv')


data.tail()


data.columns


newdata = data[['State','City','Property_Type','BHK','Size_in_SqFt','Price_in_Lakhs']]


newdata.head()


newdata['Property_Type'].unique()


plt.figure(figsize = (15,8))
sns.scatterplot(x = 'Size_in_SqFt', y = 'BHK',data = newdata, hue = 'BHK')


sns.pairplot(data = newdata)



