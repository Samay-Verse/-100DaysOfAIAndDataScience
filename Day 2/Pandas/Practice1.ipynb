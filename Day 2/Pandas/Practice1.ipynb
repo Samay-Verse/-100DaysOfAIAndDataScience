{
 "cells": [
  {
   "cell_type": "code",
   "execution_count": 1,
   "id": "efb4dc2a-2ae2-4179-810f-0d309a356e94",
   "metadata": {},
   "outputs": [],
   "source": [
    "import pandas as pd\n",
    "import numpy as np\n",
    "import matplotlib.pyplot as plt "
   ]
  },
  {
   "cell_type": "code",
   "execution_count": 2,
   "id": "facb4757-dcc0-419b-9fcc-ad5621d9a5c0",
   "metadata": {},
   "outputs": [],
   "source": [
    "df = pd.read_csv('india_housing_prices.csv')"
   ]
  },
  {
   "cell_type": "code",
   "execution_count": 3,
   "id": "d0783ad5-fb73-4d60-97ba-5a0acbca9ed1",
   "metadata": {},
   "outputs": [
    {
     "data": {
      "text/html": [
       "<div>\n",
       "<style scoped>\n",
       "    .dataframe tbody tr th:only-of-type {\n",
       "        vertical-align: middle;\n",
       "    }\n",
       "\n",
       "    .dataframe tbody tr th {\n",
       "        vertical-align: top;\n",
       "    }\n",
       "\n",
       "    .dataframe thead th {\n",
       "        text-align: right;\n",
       "    }\n",
       "</style>\n",
       "<table border=\"1\" class=\"dataframe\">\n",
       "  <thead>\n",
       "    <tr style=\"text-align: right;\">\n",
       "      <th></th>\n",
       "      <th>ID</th>\n",
       "      <th>State</th>\n",
       "      <th>City</th>\n",
       "      <th>Locality</th>\n",
       "      <th>Property_Type</th>\n",
       "      <th>BHK</th>\n",
       "      <th>Size_in_SqFt</th>\n",
       "      <th>Price_in_Lakhs</th>\n",
       "      <th>Price_per_SqFt</th>\n",
       "      <th>Year_Built</th>\n",
       "      <th>...</th>\n",
       "      <th>Age_of_Property</th>\n",
       "      <th>Nearby_Schools</th>\n",
       "      <th>Nearby_Hospitals</th>\n",
       "      <th>Public_Transport_Accessibility</th>\n",
       "      <th>Parking_Space</th>\n",
       "      <th>Security</th>\n",
       "      <th>Amenities</th>\n",
       "      <th>Facing</th>\n",
       "      <th>Owner_Type</th>\n",
       "      <th>Availability_Status</th>\n",
       "    </tr>\n",
       "  </thead>\n",
       "  <tbody>\n",
       "    <tr>\n",
       "      <th>0</th>\n",
       "      <td>1</td>\n",
       "      <td>Tamil Nadu</td>\n",
       "      <td>Chennai</td>\n",
       "      <td>Locality_84</td>\n",
       "      <td>Apartment</td>\n",
       "      <td>1</td>\n",
       "      <td>4740</td>\n",
       "      <td>489.76</td>\n",
       "      <td>0.10</td>\n",
       "      <td>1990</td>\n",
       "      <td>...</td>\n",
       "      <td>35</td>\n",
       "      <td>10</td>\n",
       "      <td>3</td>\n",
       "      <td>High</td>\n",
       "      <td>No</td>\n",
       "      <td>No</td>\n",
       "      <td>Playground, Gym, Garden, Pool, Clubhouse</td>\n",
       "      <td>West</td>\n",
       "      <td>Owner</td>\n",
       "      <td>Ready_to_Move</td>\n",
       "    </tr>\n",
       "    <tr>\n",
       "      <th>1</th>\n",
       "      <td>2</td>\n",
       "      <td>Maharashtra</td>\n",
       "      <td>Pune</td>\n",
       "      <td>Locality_490</td>\n",
       "      <td>Independent House</td>\n",
       "      <td>3</td>\n",
       "      <td>2364</td>\n",
       "      <td>195.52</td>\n",
       "      <td>0.08</td>\n",
       "      <td>2008</td>\n",
       "      <td>...</td>\n",
       "      <td>17</td>\n",
       "      <td>8</td>\n",
       "      <td>1</td>\n",
       "      <td>Low</td>\n",
       "      <td>No</td>\n",
       "      <td>Yes</td>\n",
       "      <td>Playground, Clubhouse, Pool, Gym, Garden</td>\n",
       "      <td>North</td>\n",
       "      <td>Builder</td>\n",
       "      <td>Under_Construction</td>\n",
       "    </tr>\n",
       "  </tbody>\n",
       "</table>\n",
       "<p>2 rows × 23 columns</p>\n",
       "</div>"
      ],
      "text/plain": [
       "   ID        State     City      Locality      Property_Type  BHK  \\\n",
       "0   1   Tamil Nadu  Chennai   Locality_84          Apartment    1   \n",
       "1   2  Maharashtra     Pune  Locality_490  Independent House    3   \n",
       "\n",
       "   Size_in_SqFt  Price_in_Lakhs  Price_per_SqFt  Year_Built  ...  \\\n",
       "0          4740          489.76            0.10        1990  ...   \n",
       "1          2364          195.52            0.08        2008  ...   \n",
       "\n",
       "  Age_of_Property  Nearby_Schools  Nearby_Hospitals  \\\n",
       "0              35              10                 3   \n",
       "1              17               8                 1   \n",
       "\n",
       "   Public_Transport_Accessibility  Parking_Space  Security  \\\n",
       "0                            High             No        No   \n",
       "1                             Low             No       Yes   \n",
       "\n",
       "                                  Amenities Facing Owner_Type  \\\n",
       "0  Playground, Gym, Garden, Pool, Clubhouse   West      Owner   \n",
       "1  Playground, Clubhouse, Pool, Gym, Garden  North    Builder   \n",
       "\n",
       "  Availability_Status  \n",
       "0       Ready_to_Move  \n",
       "1  Under_Construction  \n",
       "\n",
       "[2 rows x 23 columns]"
      ]
     },
     "execution_count": 3,
     "metadata": {},
     "output_type": "execute_result"
    }
   ],
   "source": [
    "df.head(2)"
   ]
  },
  {
   "cell_type": "code",
   "execution_count": 4,
   "id": "9e59f96d-0e5c-421e-b6a4-020d97e27a9d",
   "metadata": {},
   "outputs": [
    {
     "data": {
      "text/plain": [
       "array(['Tamil Nadu', 'Maharashtra', 'Punjab', 'Rajasthan', 'West Bengal',\n",
       "       'Chhattisgarh', 'Delhi', 'Jharkhand', 'Telangana', 'Karnataka',\n",
       "       'Uttar Pradesh', 'Assam', 'Uttarakhand', 'Bihar', 'Gujarat',\n",
       "       'Haryana', 'Andhra Pradesh', 'Madhya Pradesh', 'Kerala', 'Odisha'],\n",
       "      dtype=object)"
      ]
     },
     "execution_count": 4,
     "metadata": {},
     "output_type": "execute_result"
    }
   ],
   "source": [
    "df['State'].unique()"
   ]
  },
  {
   "cell_type": "code",
   "execution_count": 5,
   "id": "4ee05b4f-6bd7-4982-b47c-281c744f92bf",
   "metadata": {},
   "outputs": [
    {
     "data": {
      "text/plain": [
       "State           Property_Type    \n",
       "Odisha          Independent House    4035\n",
       "Bihar           Independent House    4073\n",
       "Delhi           Apartment            4076\n",
       "Maharashtra     Apartment            4082\n",
       "Gujarat         Apartment            4086\n",
       "Haryana         Villa                4088\n",
       "Punjab          Apartment            4092\n",
       "Rajasthan       Apartment            4099\n",
       "Haryana         Apartment            4101\n",
       "Karnataka       Apartment            4103\n",
       "Uttarakhand     Apartment            4113\n",
       "Andhra Pradesh  Villa                4113\n",
       "West Bengal     Independent House    4124\n",
       "Haryana         Independent House    4125\n",
       "Kerala          Apartment            4127\n",
       "Uttar Pradesh   Apartment            4134\n",
       "Chhattisgarh    Apartment            4134\n",
       "Telangana       Apartment            4136\n",
       "Uttarakhand     Independent House    4137\n",
       "Uttar Pradesh   Villa                4139\n",
       "Rajasthan       Villa                4142\n",
       "Madhya Pradesh  Independent House    4143\n",
       "Karnataka       Villa                4143\n",
       "Madhya Pradesh  Villa                4146\n",
       "Bihar           Villa                4147\n",
       "                Apartment            4149\n",
       "Jharkhand       Villa                4152\n",
       "                Independent House    4152\n",
       "Assam           Independent House    4152\n",
       "Telangana       Villa                4153\n",
       "Delhi           Independent House    4153\n",
       "Chhattisgarh    Independent House    4156\n",
       "Assam           Villa                4157\n",
       "Tamil Nadu      Independent House    4159\n",
       "Rajasthan       Independent House    4161\n",
       "Madhya Pradesh  Apartment            4162\n",
       "Chhattisgarh    Villa                4166\n",
       "Andhra Pradesh  Apartment            4168\n",
       "Kerala          Villa                4170\n",
       "Jharkhand       Apartment            4176\n",
       "Karnataka       Independent House    4178\n",
       "Punjab          Independent House    4181\n",
       "Andhra Pradesh  Independent House    4181\n",
       "Assam           Apartment            4187\n",
       "Kerala          Independent House    4190\n",
       "Maharashtra     Villa                4204\n",
       "Gujarat         Villa                4224\n",
       "Tamil Nadu      Villa                4234\n",
       "Uttar Pradesh   Independent House    4235\n",
       "Tamil Nadu      Apartment            4236\n",
       "Punjab          Villa                4243\n",
       "West Bengal     Villa                4244\n",
       "Maharashtra     Independent House    4247\n",
       "Telangana       Independent House    4250\n",
       "Uttarakhand     Villa                4251\n",
       "West Bengal     Apartment            4254\n",
       "Gujarat         Independent House    4268\n",
       "Odisha          Villa                4305\n",
       "Delhi           Villa                4323\n",
       "Odisha          Apartment            4341\n",
       "Name: count, dtype: int64"
      ]
     },
     "execution_count": 5,
     "metadata": {},
     "output_type": "execute_result"
    }
   ],
   "source": [
    "df.groupby('State')['Property_Type'].value_counts().sort_values()"
   ]
  },
  {
   "cell_type": "code",
   "execution_count": 6,
   "id": "3a0257f1-d937-4c5c-9c8d-eed994fd3b0d",
   "metadata": {},
   "outputs": [
    {
     "data": {
      "text/plain": [
       "Property_Type\n",
       "Apartment            82956\n",
       "Independent House    83300\n",
       "Villa                83744\n",
       "Name: State, dtype: int64"
      ]
     },
     "execution_count": 6,
     "metadata": {},
     "output_type": "execute_result"
    }
   ],
   "source": [
    "df.groupby('Property_Type')['State'].count()"
   ]
  },
  {
   "cell_type": "code",
   "execution_count": 7,
   "id": "fa962aff-fcae-43e3-ace9-ce988ee2b928",
   "metadata": {},
   "outputs": [],
   "source": [
    "groupdata = df.groupby(['State','Property_Type']).size().unstack()"
   ]
  },
  {
   "cell_type": "code",
   "execution_count": 8,
   "id": "61287384-d5cf-4c8f-a2b2-81353a1849a7",
   "metadata": {},
   "outputs": [],
   "source": [
    "# groupdata.dtype"
   ]
  },
  {
   "cell_type": "code",
   "execution_count": 9,
   "id": "3ffb6bb4-e490-476d-b3d8-91cec0243e76",
   "metadata": {},
   "outputs": [],
   "source": [
    "# groupdata.plot(kind = 'pie',subplots=True)"
   ]
  },
  {
   "cell_type": "code",
   "execution_count": 10,
   "id": "d37efa0a-0687-4a55-ae11-58bd05999b47",
   "metadata": {},
   "outputs": [
    {
     "data": {
      "text/html": [
       "<div>\n",
       "<style scoped>\n",
       "    .dataframe tbody tr th:only-of-type {\n",
       "        vertical-align: middle;\n",
       "    }\n",
       "\n",
       "    .dataframe tbody tr th {\n",
       "        vertical-align: top;\n",
       "    }\n",
       "\n",
       "    .dataframe thead th {\n",
       "        text-align: right;\n",
       "    }\n",
       "</style>\n",
       "<table border=\"1\" class=\"dataframe\">\n",
       "  <thead>\n",
       "    <tr style=\"text-align: right;\">\n",
       "      <th></th>\n",
       "      <th>ID</th>\n",
       "      <th>State</th>\n",
       "      <th>City</th>\n",
       "      <th>Locality</th>\n",
       "      <th>Property_Type</th>\n",
       "      <th>BHK</th>\n",
       "      <th>Size_in_SqFt</th>\n",
       "      <th>Price_in_Lakhs</th>\n",
       "      <th>Price_per_SqFt</th>\n",
       "      <th>Year_Built</th>\n",
       "      <th>...</th>\n",
       "      <th>Age_of_Property</th>\n",
       "      <th>Nearby_Schools</th>\n",
       "      <th>Nearby_Hospitals</th>\n",
       "      <th>Public_Transport_Accessibility</th>\n",
       "      <th>Parking_Space</th>\n",
       "      <th>Security</th>\n",
       "      <th>Amenities</th>\n",
       "      <th>Facing</th>\n",
       "      <th>Owner_Type</th>\n",
       "      <th>Availability_Status</th>\n",
       "    </tr>\n",
       "  </thead>\n",
       "  <tbody>\n",
       "    <tr>\n",
       "      <th>0</th>\n",
       "      <td>1</td>\n",
       "      <td>Tamil Nadu</td>\n",
       "      <td>Chennai</td>\n",
       "      <td>Locality_84</td>\n",
       "      <td>Apartment</td>\n",
       "      <td>1</td>\n",
       "      <td>4740</td>\n",
       "      <td>489.76</td>\n",
       "      <td>0.10</td>\n",
       "      <td>1990</td>\n",
       "      <td>...</td>\n",
       "      <td>35</td>\n",
       "      <td>10</td>\n",
       "      <td>3</td>\n",
       "      <td>High</td>\n",
       "      <td>No</td>\n",
       "      <td>No</td>\n",
       "      <td>Playground, Gym, Garden, Pool, Clubhouse</td>\n",
       "      <td>West</td>\n",
       "      <td>Owner</td>\n",
       "      <td>Ready_to_Move</td>\n",
       "    </tr>\n",
       "    <tr>\n",
       "      <th>1</th>\n",
       "      <td>2</td>\n",
       "      <td>Maharashtra</td>\n",
       "      <td>Pune</td>\n",
       "      <td>Locality_490</td>\n",
       "      <td>Independent House</td>\n",
       "      <td>3</td>\n",
       "      <td>2364</td>\n",
       "      <td>195.52</td>\n",
       "      <td>0.08</td>\n",
       "      <td>2008</td>\n",
       "      <td>...</td>\n",
       "      <td>17</td>\n",
       "      <td>8</td>\n",
       "      <td>1</td>\n",
       "      <td>Low</td>\n",
       "      <td>No</td>\n",
       "      <td>Yes</td>\n",
       "      <td>Playground, Clubhouse, Pool, Gym, Garden</td>\n",
       "      <td>North</td>\n",
       "      <td>Builder</td>\n",
       "      <td>Under_Construction</td>\n",
       "    </tr>\n",
       "  </tbody>\n",
       "</table>\n",
       "<p>2 rows × 23 columns</p>\n",
       "</div>"
      ],
      "text/plain": [
       "   ID        State     City      Locality      Property_Type  BHK  \\\n",
       "0   1   Tamil Nadu  Chennai   Locality_84          Apartment    1   \n",
       "1   2  Maharashtra     Pune  Locality_490  Independent House    3   \n",
       "\n",
       "   Size_in_SqFt  Price_in_Lakhs  Price_per_SqFt  Year_Built  ...  \\\n",
       "0          4740          489.76            0.10        1990  ...   \n",
       "1          2364          195.52            0.08        2008  ...   \n",
       "\n",
       "  Age_of_Property  Nearby_Schools  Nearby_Hospitals  \\\n",
       "0              35              10                 3   \n",
       "1              17               8                 1   \n",
       "\n",
       "   Public_Transport_Accessibility  Parking_Space  Security  \\\n",
       "0                            High             No        No   \n",
       "1                             Low             No       Yes   \n",
       "\n",
       "                                  Amenities Facing Owner_Type  \\\n",
       "0  Playground, Gym, Garden, Pool, Clubhouse   West      Owner   \n",
       "1  Playground, Clubhouse, Pool, Gym, Garden  North    Builder   \n",
       "\n",
       "  Availability_Status  \n",
       "0       Ready_to_Move  \n",
       "1  Under_Construction  \n",
       "\n",
       "[2 rows x 23 columns]"
      ]
     },
     "execution_count": 10,
     "metadata": {},
     "output_type": "execute_result"
    }
   ],
   "source": [
    "df.head(2)"
   ]
  },
  {
   "cell_type": "code",
   "execution_count": 11,
   "id": "300c0743-b23a-434f-82c1-96abc7316aa8",
   "metadata": {},
   "outputs": [],
   "source": [
    "df.replace('NULL',np.nan, inplace = True)"
   ]
  },
  {
   "cell_type": "code",
   "execution_count": 12,
   "id": "8701fc5f-89f8-44d7-a84f-bec90a91ffc5",
   "metadata": {},
   "outputs": [
    {
     "data": {
      "text/plain": [
       "ID                                0\n",
       "State                             0\n",
       "City                              0\n",
       "Locality                          0\n",
       "Property_Type                     0\n",
       "BHK                               0\n",
       "Size_in_SqFt                      0\n",
       "Price_in_Lakhs                    0\n",
       "Price_per_SqFt                    0\n",
       "Year_Built                        0\n",
       "Furnished_Status                  0\n",
       "Floor_No                          0\n",
       "Total_Floors                      0\n",
       "Age_of_Property                   0\n",
       "Nearby_Schools                    0\n",
       "Nearby_Hospitals                  0\n",
       "Public_Transport_Accessibility    0\n",
       "Parking_Space                     0\n",
       "Security                          0\n",
       "Amenities                         0\n",
       "Facing                            0\n",
       "Owner_Type                        0\n",
       "Availability_Status               0\n",
       "dtype: int64"
      ]
     },
     "execution_count": 12,
     "metadata": {},
     "output_type": "execute_result"
    }
   ],
   "source": [
    "df.isnull().sum() "
   ]
  },
  {
   "cell_type": "code",
   "execution_count": 13,
   "id": "741a3ebb-3e3b-4577-9929-c743bf9045d7",
   "metadata": {},
   "outputs": [
    {
     "data": {
      "text/plain": [
       "ID                                  int64\n",
       "State                              object\n",
       "City                               object\n",
       "Locality                           object\n",
       "Property_Type                      object\n",
       "BHK                                 int64\n",
       "Size_in_SqFt                        int64\n",
       "Price_in_Lakhs                    float64\n",
       "Price_per_SqFt                    float64\n",
       "Year_Built                          int64\n",
       "Furnished_Status                   object\n",
       "Floor_No                            int64\n",
       "Total_Floors                        int64\n",
       "Age_of_Property                     int64\n",
       "Nearby_Schools                      int64\n",
       "Nearby_Hospitals                    int64\n",
       "Public_Transport_Accessibility     object\n",
       "Parking_Space                      object\n",
       "Security                           object\n",
       "Amenities                          object\n",
       "Facing                             object\n",
       "Owner_Type                         object\n",
       "Availability_Status                object\n",
       "dtype: object"
      ]
     },
     "execution_count": 13,
     "metadata": {},
     "output_type": "execute_result"
    }
   ],
   "source": [
    "df.dtypes"
   ]
  },
  {
   "cell_type": "code",
   "execution_count": 14,
   "id": "b15234bf-4d61-4c30-9eaf-146775944e6b",
   "metadata": {},
   "outputs": [
    {
     "data": {
      "text/plain": [
       "0              1\n",
       "1              2\n",
       "2              3\n",
       "3              4\n",
       "4              5\n",
       "           ...  \n",
       "249995    249996\n",
       "249996    249997\n",
       "249997    249998\n",
       "249998    249999\n",
       "249999    250000\n",
       "Name: ID, Length: 250000, dtype: int64"
      ]
     },
     "execution_count": 14,
     "metadata": {},
     "output_type": "execute_result"
    }
   ],
   "source": [
    "df['ID']"
   ]
  },
  {
   "cell_type": "code",
   "execution_count": 15,
   "id": "186f1c4d-aebe-4aeb-b66b-a4bd635f9a4e",
   "metadata": {},
   "outputs": [
    {
     "data": {
      "text/html": [
       "<div>\n",
       "<style scoped>\n",
       "    .dataframe tbody tr th:only-of-type {\n",
       "        vertical-align: middle;\n",
       "    }\n",
       "\n",
       "    .dataframe tbody tr th {\n",
       "        vertical-align: top;\n",
       "    }\n",
       "\n",
       "    .dataframe thead th {\n",
       "        text-align: right;\n",
       "    }\n",
       "</style>\n",
       "<table border=\"1\" class=\"dataframe\">\n",
       "  <thead>\n",
       "    <tr style=\"text-align: right;\">\n",
       "      <th></th>\n",
       "      <th>ID</th>\n",
       "      <th>State</th>\n",
       "      <th>City</th>\n",
       "      <th>Locality</th>\n",
       "      <th>Property_Type</th>\n",
       "      <th>BHK</th>\n",
       "      <th>Size_in_SqFt</th>\n",
       "      <th>Price_in_Lakhs</th>\n",
       "      <th>Price_per_SqFt</th>\n",
       "      <th>Year_Built</th>\n",
       "      <th>...</th>\n",
       "      <th>Age_of_Property</th>\n",
       "      <th>Nearby_Schools</th>\n",
       "      <th>Nearby_Hospitals</th>\n",
       "      <th>Public_Transport_Accessibility</th>\n",
       "      <th>Parking_Space</th>\n",
       "      <th>Security</th>\n",
       "      <th>Amenities</th>\n",
       "      <th>Facing</th>\n",
       "      <th>Owner_Type</th>\n",
       "      <th>Availability_Status</th>\n",
       "    </tr>\n",
       "  </thead>\n",
       "  <tbody>\n",
       "    <tr>\n",
       "      <th>0</th>\n",
       "      <td>1</td>\n",
       "      <td>Tamil Nadu</td>\n",
       "      <td>Chennai</td>\n",
       "      <td>Locality_84</td>\n",
       "      <td>Apartment</td>\n",
       "      <td>1</td>\n",
       "      <td>4740</td>\n",
       "      <td>489.76</td>\n",
       "      <td>0.10</td>\n",
       "      <td>1990</td>\n",
       "      <td>...</td>\n",
       "      <td>35</td>\n",
       "      <td>10</td>\n",
       "      <td>3</td>\n",
       "      <td>High</td>\n",
       "      <td>No</td>\n",
       "      <td>No</td>\n",
       "      <td>Playground, Gym, Garden, Pool, Clubhouse</td>\n",
       "      <td>West</td>\n",
       "      <td>Owner</td>\n",
       "      <td>Ready_to_Move</td>\n",
       "    </tr>\n",
       "    <tr>\n",
       "      <th>1</th>\n",
       "      <td>2</td>\n",
       "      <td>Maharashtra</td>\n",
       "      <td>Pune</td>\n",
       "      <td>Locality_490</td>\n",
       "      <td>Independent House</td>\n",
       "      <td>3</td>\n",
       "      <td>2364</td>\n",
       "      <td>195.52</td>\n",
       "      <td>0.08</td>\n",
       "      <td>2008</td>\n",
       "      <td>...</td>\n",
       "      <td>17</td>\n",
       "      <td>8</td>\n",
       "      <td>1</td>\n",
       "      <td>Low</td>\n",
       "      <td>No</td>\n",
       "      <td>Yes</td>\n",
       "      <td>Playground, Clubhouse, Pool, Gym, Garden</td>\n",
       "      <td>North</td>\n",
       "      <td>Builder</td>\n",
       "      <td>Under_Construction</td>\n",
       "    </tr>\n",
       "    <tr>\n",
       "      <th>2</th>\n",
       "      <td>3</td>\n",
       "      <td>Punjab</td>\n",
       "      <td>Ludhiana</td>\n",
       "      <td>Locality_167</td>\n",
       "      <td>Apartment</td>\n",
       "      <td>2</td>\n",
       "      <td>3642</td>\n",
       "      <td>183.79</td>\n",
       "      <td>0.05</td>\n",
       "      <td>1997</td>\n",
       "      <td>...</td>\n",
       "      <td>28</td>\n",
       "      <td>9</td>\n",
       "      <td>8</td>\n",
       "      <td>Low</td>\n",
       "      <td>Yes</td>\n",
       "      <td>No</td>\n",
       "      <td>Clubhouse, Pool, Playground, Gym</td>\n",
       "      <td>South</td>\n",
       "      <td>Broker</td>\n",
       "      <td>Ready_to_Move</td>\n",
       "    </tr>\n",
       "    <tr>\n",
       "      <th>3</th>\n",
       "      <td>4</td>\n",
       "      <td>Rajasthan</td>\n",
       "      <td>Jodhpur</td>\n",
       "      <td>Locality_393</td>\n",
       "      <td>Independent House</td>\n",
       "      <td>2</td>\n",
       "      <td>2741</td>\n",
       "      <td>300.29</td>\n",
       "      <td>0.11</td>\n",
       "      <td>1991</td>\n",
       "      <td>...</td>\n",
       "      <td>34</td>\n",
       "      <td>5</td>\n",
       "      <td>7</td>\n",
       "      <td>High</td>\n",
       "      <td>Yes</td>\n",
       "      <td>Yes</td>\n",
       "      <td>Playground, Clubhouse, Gym, Pool, Garden</td>\n",
       "      <td>North</td>\n",
       "      <td>Builder</td>\n",
       "      <td>Ready_to_Move</td>\n",
       "    </tr>\n",
       "    <tr>\n",
       "      <th>4</th>\n",
       "      <td>5</td>\n",
       "      <td>Rajasthan</td>\n",
       "      <td>Jaipur</td>\n",
       "      <td>Locality_466</td>\n",
       "      <td>Villa</td>\n",
       "      <td>4</td>\n",
       "      <td>4823</td>\n",
       "      <td>182.90</td>\n",
       "      <td>0.04</td>\n",
       "      <td>2002</td>\n",
       "      <td>...</td>\n",
       "      <td>23</td>\n",
       "      <td>4</td>\n",
       "      <td>9</td>\n",
       "      <td>Low</td>\n",
       "      <td>No</td>\n",
       "      <td>Yes</td>\n",
       "      <td>Playground, Garden, Gym, Pool, Clubhouse</td>\n",
       "      <td>East</td>\n",
       "      <td>Builder</td>\n",
       "      <td>Ready_to_Move</td>\n",
       "    </tr>\n",
       "  </tbody>\n",
       "</table>\n",
       "<p>5 rows × 23 columns</p>\n",
       "</div>"
      ],
      "text/plain": [
       "   ID        State      City      Locality      Property_Type  BHK  \\\n",
       "0   1   Tamil Nadu   Chennai   Locality_84          Apartment    1   \n",
       "1   2  Maharashtra      Pune  Locality_490  Independent House    3   \n",
       "2   3       Punjab  Ludhiana  Locality_167          Apartment    2   \n",
       "3   4    Rajasthan   Jodhpur  Locality_393  Independent House    2   \n",
       "4   5    Rajasthan    Jaipur  Locality_466              Villa    4   \n",
       "\n",
       "   Size_in_SqFt  Price_in_Lakhs  Price_per_SqFt  Year_Built  ...  \\\n",
       "0          4740          489.76            0.10        1990  ...   \n",
       "1          2364          195.52            0.08        2008  ...   \n",
       "2          3642          183.79            0.05        1997  ...   \n",
       "3          2741          300.29            0.11        1991  ...   \n",
       "4          4823          182.90            0.04        2002  ...   \n",
       "\n",
       "  Age_of_Property  Nearby_Schools  Nearby_Hospitals  \\\n",
       "0              35              10                 3   \n",
       "1              17               8                 1   \n",
       "2              28               9                 8   \n",
       "3              34               5                 7   \n",
       "4              23               4                 9   \n",
       "\n",
       "   Public_Transport_Accessibility  Parking_Space  Security  \\\n",
       "0                            High             No        No   \n",
       "1                             Low             No       Yes   \n",
       "2                             Low            Yes        No   \n",
       "3                            High            Yes       Yes   \n",
       "4                             Low             No       Yes   \n",
       "\n",
       "                                  Amenities Facing Owner_Type  \\\n",
       "0  Playground, Gym, Garden, Pool, Clubhouse   West      Owner   \n",
       "1  Playground, Clubhouse, Pool, Gym, Garden  North    Builder   \n",
       "2          Clubhouse, Pool, Playground, Gym  South     Broker   \n",
       "3  Playground, Clubhouse, Gym, Pool, Garden  North    Builder   \n",
       "4  Playground, Garden, Gym, Pool, Clubhouse   East    Builder   \n",
       "\n",
       "  Availability_Status  \n",
       "0       Ready_to_Move  \n",
       "1  Under_Construction  \n",
       "2       Ready_to_Move  \n",
       "3       Ready_to_Move  \n",
       "4       Ready_to_Move  \n",
       "\n",
       "[5 rows x 23 columns]"
      ]
     },
     "execution_count": 15,
     "metadata": {},
     "output_type": "execute_result"
    }
   ],
   "source": [
    "df.head()"
   ]
  },
  {
   "cell_type": "code",
   "execution_count": 22,
   "id": "60622342-6632-4acc-89cc-f98ae2c53ec6",
   "metadata": {},
   "outputs": [],
   "source": [
    "g = df.groupby('State')['Price_in_Lakhs']"
   ]
  },
  {
   "cell_type": "code",
   "execution_count": 61,
   "id": "18031e08-ac0c-460d-8c31-6f87a6fba30c",
   "metadata": {
    "scrolled": true
   },
   "outputs": [
    {
     "name": "stdout",
     "output_type": "stream",
     "text": [
      "State\n",
      "Andhra Pradesh    10.04\n",
      "Assam             10.06\n",
      "Bihar             10.16\n",
      "Chhattisgarh      10.02\n",
      "Delhi             10.06\n",
      "Gujarat           10.04\n",
      "Haryana           10.00\n",
      "Jharkhand         10.06\n",
      "Karnataka         10.06\n",
      "Kerala            10.05\n",
      "Madhya Pradesh    10.01\n",
      "Maharashtra       10.04\n",
      "Odisha            10.00\n",
      "Punjab            10.04\n",
      "Rajasthan         10.02\n",
      "Tamil Nadu        10.03\n",
      "Telangana         10.18\n",
      "Uttar Pradesh     10.02\n",
      "Uttarakhand       10.13\n",
      "West Bengal       10.04\n",
      "Name: Price_in_Lakhs, dtype: float64\n"
     ]
    },
    {
     "data": {
      "text/plain": [
       "<Axes: xlabel='State'>"
      ]
     },
     "execution_count": 61,
     "metadata": {},
     "output_type": "execute_result"
    },
    {
     "data": {
      "image/png": "[encoded data removed]",
      "text/plain": [
       "<Figure size 640x480 with 1 Axes>"
      ]
     },
     "metadata": {},
     "output_type": "display_data"
    }
   ],
   "source": [
    "print(g.min())\n",
    "g.max().plot(kind = 'bar')"
   ]
  },
  {
   "cell_type": "code",
   "execution_count": 48,
   "id": "57bd6be6-1504-4c34-8250-d010bd182cc0",
   "metadata": {},
   "outputs": [],
   "source": [
    "# df[['State','Price_in_Lakhs','City']].sort_values(by = 'Price_in_Lakhs')"
   ]
  },
  {
   "cell_type": "code",
   "execution_count": 49,
   "id": "743c0c39-58be-4ebd-878d-7aa17f512af5",
   "metadata": {},
   "outputs": [
    {
     "data": {
      "text/plain": [
       "State             Andhra Pradesh\n",
       "Price_in_Lakhs              10.0\n",
       "dtype: object"
      ]
     },
     "execution_count": 49,
     "metadata": {},
     "output_type": "execute_result"
    }
   ],
   "source": [
    "df[['State','Price_in_Lakhs']].min()\n"
   ]
  },
  {
   "cell_type": "code",
   "execution_count": null,
   "id": "cd78db59-784d-4de7-b78e-a841cd10e34f",
   "metadata": {},
   "outputs": [],
   "source": [
    "                                                                                                                                          "
   ]
  },
  {
   "cell_type": "code",
   "execution_count": null,
   "id": "60bd2d5c-6f5c-43cc-a186-9bf6e7d03399",
   "metadata": {},
   "outputs": [],
   "source": []
  }
 ],
 "metadata": {
  "kernelspec": {
   "display_name": "Python 3 (ipykernel)",
   "language": "python",
   "name": "python3"
  },
  "language_info": {
   "codemirror_mode": {
    "name": "ipython",
    "version": 3
   },
   "file_extension": ".py",
   "mimetype": "text/x-python",
   "name": "python",
   "nbconvert_exporter": "python",
   "pygments_lexer": "ipython3",
   "version": "3.12.2"
  }
 },
 "nbformat": 4,
 "nbformat_minor": 5
}
