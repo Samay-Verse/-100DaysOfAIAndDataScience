{
 "cells": [
  {
   "cell_type": "code",
   "execution_count": 2,
   "id": "0538214d-d341-40db-8170-342c23dec9ac",
   "metadata": {},
   "outputs": [],
   "source": [
    "import pandas as pd\n",
    "import numpy as np"
   ]
  },
  {
   "cell_type": "code",
   "execution_count": 3,
   "id": "f9403561-3c7b-48a5-b870-9b597c727deb",
   "metadata": {},
   "outputs": [],
   "source": [
    "df = pd.read_csv('data_science_job.csv')"
   ]
  },
  {
   "cell_type": "code",
   "execution_count": 4,
   "id": "c82491d9-1b13-4ce6-8d3f-f58ef6cd7589",
   "metadata": {},
   "outputs": [
    {
     "data": {
      "text/html": [
       "<div>\n",
       "<style scoped>\n",
       "    .dataframe tbody tr th:only-of-type {\n",
       "        vertical-align: middle;\n",
       "    }\n",
       "\n",
       "    .dataframe tbody tr th {\n",
       "        vertical-align: top;\n",
       "    }\n",
       "\n",
       "    .dataframe thead th {\n",
       "        text-align: right;\n",
       "    }\n",
       "</style>\n",
       "<table border=\"1\" class=\"dataframe\">\n",
       "  <thead>\n",
       "    <tr style=\"text-align: right;\">\n",
       "      <th></th>\n",
       "      <th>enrollee_id</th>\n",
       "      <th>city</th>\n",
       "      <th>city_development_index</th>\n",
       "      <th>gender</th>\n",
       "      <th>relevent_experience</th>\n",
       "      <th>enrolled_university</th>\n",
       "      <th>education_level</th>\n",
       "      <th>major_discipline</th>\n",
       "      <th>experience</th>\n",
       "      <th>company_size</th>\n",
       "      <th>company_type</th>\n",
       "      <th>training_hours</th>\n",
       "      <th>target</th>\n",
       "    </tr>\n",
       "  </thead>\n",
       "  <tbody>\n",
       "    <tr>\n",
       "      <th>0</th>\n",
       "      <td>8949</td>\n",
       "      <td>city_103</td>\n",
       "      <td>0.920</td>\n",
       "      <td>Male</td>\n",
       "      <td>Has relevent experience</td>\n",
       "      <td>no_enrollment</td>\n",
       "      <td>Graduate</td>\n",
       "      <td>STEM</td>\n",
       "      <td>20.0</td>\n",
       "      <td>NaN</td>\n",
       "      <td>NaN</td>\n",
       "      <td>36.0</td>\n",
       "      <td>1.0</td>\n",
       "    </tr>\n",
       "    <tr>\n",
       "      <th>1</th>\n",
       "      <td>29725</td>\n",
       "      <td>city_40</td>\n",
       "      <td>0.776</td>\n",
       "      <td>Male</td>\n",
       "      <td>No relevent experience</td>\n",
       "      <td>no_enrollment</td>\n",
       "      <td>Graduate</td>\n",
       "      <td>STEM</td>\n",
       "      <td>15.0</td>\n",
       "      <td>50-99</td>\n",
       "      <td>Pvt Ltd</td>\n",
       "      <td>47.0</td>\n",
       "      <td>0.0</td>\n",
       "    </tr>\n",
       "    <tr>\n",
       "      <th>2</th>\n",
       "      <td>11561</td>\n",
       "      <td>city_21</td>\n",
       "      <td>0.624</td>\n",
       "      <td>NaN</td>\n",
       "      <td>No relevent experience</td>\n",
       "      <td>Full time course</td>\n",
       "      <td>Graduate</td>\n",
       "      <td>STEM</td>\n",
       "      <td>5.0</td>\n",
       "      <td>NaN</td>\n",
       "      <td>NaN</td>\n",
       "      <td>83.0</td>\n",
       "      <td>0.0</td>\n",
       "    </tr>\n",
       "    <tr>\n",
       "      <th>3</th>\n",
       "      <td>33241</td>\n",
       "      <td>city_115</td>\n",
       "      <td>0.789</td>\n",
       "      <td>NaN</td>\n",
       "      <td>No relevent experience</td>\n",
       "      <td>NaN</td>\n",
       "      <td>Graduate</td>\n",
       "      <td>Business Degree</td>\n",
       "      <td>0.0</td>\n",
       "      <td>NaN</td>\n",
       "      <td>Pvt Ltd</td>\n",
       "      <td>52.0</td>\n",
       "      <td>1.0</td>\n",
       "    </tr>\n",
       "    <tr>\n",
       "      <th>4</th>\n",
       "      <td>666</td>\n",
       "      <td>city_162</td>\n",
       "      <td>0.767</td>\n",
       "      <td>Male</td>\n",
       "      <td>Has relevent experience</td>\n",
       "      <td>no_enrollment</td>\n",
       "      <td>Masters</td>\n",
       "      <td>STEM</td>\n",
       "      <td>20.0</td>\n",
       "      <td>50-99</td>\n",
       "      <td>Funded Startup</td>\n",
       "      <td>8.0</td>\n",
       "      <td>0.0</td>\n",
       "    </tr>\n",
       "  </tbody>\n",
       "</table>\n",
       "</div>"
      ],
      "text/plain": [
       "   enrollee_id      city  city_development_index gender  \\\n",
       "0         8949  city_103                   0.920   Male   \n",
       "1        29725   city_40                   0.776   Male   \n",
       "2        11561   city_21                   0.624    NaN   \n",
       "3        33241  city_115                   0.789    NaN   \n",
       "4          666  city_162                   0.767   Male   \n",
       "\n",
       "       relevent_experience enrolled_university education_level  \\\n",
       "0  Has relevent experience       no_enrollment        Graduate   \n",
       "1   No relevent experience       no_enrollment        Graduate   \n",
       "2   No relevent experience    Full time course        Graduate   \n",
       "3   No relevent experience                 NaN        Graduate   \n",
       "4  Has relevent experience       no_enrollment         Masters   \n",
       "\n",
       "  major_discipline  experience company_size    company_type  training_hours  \\\n",
       "0             STEM        20.0          NaN             NaN            36.0   \n",
       "1             STEM        15.0        50-99         Pvt Ltd            47.0   \n",
       "2             STEM         5.0          NaN             NaN            83.0   \n",
       "3  Business Degree         0.0          NaN         Pvt Ltd            52.0   \n",
       "4             STEM        20.0        50-99  Funded Startup             8.0   \n",
       "\n",
       "   target  \n",
       "0     1.0  \n",
       "1     0.0  \n",
       "2     0.0  \n",
       "3     1.0  \n",
       "4     0.0  "
      ]
     },
     "execution_count": 4,
     "metadata": {},
     "output_type": "execute_result"
    }
   ],
   "source": [
    "df.head()"
   ]
  },
  {
   "cell_type": "code",
   "execution_count": 5,
   "id": "32bea52d-1ad1-4657-99a3-a8a6edf9def8",
   "metadata": {},
   "outputs": [],
   "source": [
    "a = df.isnull().sum().sum()"
   ]
  },
  {
   "cell_type": "code",
   "execution_count": 6,
   "id": "3aa6c489-fd29-4264-a5ec-096f346e2cc3",
   "metadata": {},
   "outputs": [
    {
     "data": {
      "text/plain": [
       "8.654749572381894"
      ]
     },
     "execution_count": 6,
     "metadata": {},
     "output_type": "execute_result"
    }
   ],
   "source": [
    "(a /df.size )*100"
   ]
  },
  {
   "cell_type": "code",
   "execution_count": 7,
   "id": "66f9c116-5bd0-4ca8-800c-2bed7ea3f764",
   "metadata": {},
   "outputs": [],
   "source": [
    "df.dropna(inplace = True)"
   ]
  },
  {
   "cell_type": "code",
   "execution_count": 8,
   "id": "2d747841-e72f-4867-b3e3-8a2cf8017560",
   "metadata": {},
   "outputs": [
    {
     "data": {
      "text/plain": [
       "enrollee_id               0\n",
       "city                      0\n",
       "city_development_index    0\n",
       "gender                    0\n",
       "relevent_experience       0\n",
       "enrolled_university       0\n",
       "education_level           0\n",
       "major_discipline          0\n",
       "experience                0\n",
       "company_size              0\n",
       "company_type              0\n",
       "training_hours            0\n",
       "target                    0\n",
       "dtype: int64"
      ]
     },
     "execution_count": 8,
     "metadata": {},
     "output_type": "execute_result"
    }
   ],
   "source": [
    "df.isnull().sum()"
   ]
  },
  {
   "cell_type": "code",
   "execution_count": 9,
   "id": "47d92998-bb36-4276-9031-acb6c615c12b",
   "metadata": {},
   "outputs": [
    {
     "data": {
      "text/plain": [
       "enrollee_id                 int64\n",
       "city                       object\n",
       "city_development_index    float64\n",
       "gender                     object\n",
       "relevent_experience        object\n",
       "enrolled_university        object\n",
       "education_level            object\n",
       "major_discipline           object\n",
       "experience                float64\n",
       "company_size               object\n",
       "company_type               object\n",
       "training_hours            float64\n",
       "target                    float64\n",
       "dtype: object"
      ]
     },
     "execution_count": 9,
     "metadata": {},
     "output_type": "execute_result"
    }
   ],
   "source": [
    "df.dtypes"
   ]
  },
  {
   "cell_type": "code",
   "execution_count": 10,
   "id": "820a1876-232d-4f0c-b628-e53f45f01b4c",
   "metadata": {},
   "outputs": [
    {
     "name": "stdout",
     "output_type": "stream",
     "text": [
      "<class 'pandas.core.frame.DataFrame'>\n",
      "Index: 8434 entries, 1 to 19155\n",
      "Data columns (total 13 columns):\n",
      " #   Column                  Non-Null Count  Dtype  \n",
      "---  ------                  --------------  -----  \n",
      " 0   enrollee_id             8434 non-null   int64  \n",
      " 1   city                    8434 non-null   object \n",
      " 2   city_development_index  8434 non-null   float64\n",
      " 3   gender                  8434 non-null   object \n",
      " 4   relevent_experience     8434 non-null   object \n",
      " 5   enrolled_university     8434 non-null   object \n",
      " 6   education_level         8434 non-null   object \n",
      " 7   major_discipline        8434 non-null   object \n",
      " 8   experience              8434 non-null   float64\n",
      " 9   company_size            8434 non-null   object \n",
      " 10  company_type            8434 non-null   object \n",
      " 11  training_hours          8434 non-null   float64\n",
      " 12  target                  8434 non-null   float64\n",
      "dtypes: float64(4), int64(1), object(8)\n",
      "memory usage: 922.5+ KB\n"
     ]
    }
   ],
   "source": [
    "df.info()"
   ]
  },
  {
   "cell_type": "code",
   "execution_count": 11,
   "id": "9f5d19cf-3200-44ec-a859-673db60afe0d",
   "metadata": {},
   "outputs": [
    {
     "data": {
      "text/html": [
       "<div>\n",
       "<style scoped>\n",
       "    .dataframe tbody tr th:only-of-type {\n",
       "        vertical-align: middle;\n",
       "    }\n",
       "\n",
       "    .dataframe tbody tr th {\n",
       "        vertical-align: top;\n",
       "    }\n",
       "\n",
       "    .dataframe thead th {\n",
       "        text-align: right;\n",
       "    }\n",
       "</style>\n",
       "<table border=\"1\" class=\"dataframe\">\n",
       "  <thead>\n",
       "    <tr style=\"text-align: right;\">\n",
       "      <th></th>\n",
       "      <th>enrollee_id</th>\n",
       "      <th>city</th>\n",
       "      <th>city_development_index</th>\n",
       "      <th>gender</th>\n",
       "      <th>relevent_experience</th>\n",
       "      <th>enrolled_university</th>\n",
       "      <th>education_level</th>\n",
       "      <th>major_discipline</th>\n",
       "      <th>experience</th>\n",
       "      <th>company_size</th>\n",
       "      <th>company_type</th>\n",
       "      <th>training_hours</th>\n",
       "      <th>target</th>\n",
       "    </tr>\n",
       "  </thead>\n",
       "  <tbody>\n",
       "    <tr>\n",
       "      <th>count</th>\n",
       "      <td>8434.000000</td>\n",
       "      <td>8434</td>\n",
       "      <td>8434.000000</td>\n",
       "      <td>8434</td>\n",
       "      <td>8434</td>\n",
       "      <td>8434</td>\n",
       "      <td>8434</td>\n",
       "      <td>8434</td>\n",
       "      <td>8434.000000</td>\n",
       "      <td>8434</td>\n",
       "      <td>8434</td>\n",
       "      <td>8434.000000</td>\n",
       "      <td>8434.000000</td>\n",
       "    </tr>\n",
       "    <tr>\n",
       "      <th>unique</th>\n",
       "      <td>NaN</td>\n",
       "      <td>116</td>\n",
       "      <td>NaN</td>\n",
       "      <td>3</td>\n",
       "      <td>2</td>\n",
       "      <td>3</td>\n",
       "      <td>3</td>\n",
       "      <td>6</td>\n",
       "      <td>NaN</td>\n",
       "      <td>8</td>\n",
       "      <td>6</td>\n",
       "      <td>NaN</td>\n",
       "      <td>NaN</td>\n",
       "    </tr>\n",
       "    <tr>\n",
       "      <th>top</th>\n",
       "      <td>NaN</td>\n",
       "      <td>city_103</td>\n",
       "      <td>NaN</td>\n",
       "      <td>Male</td>\n",
       "      <td>Has relevent experience</td>\n",
       "      <td>no_enrollment</td>\n",
       "      <td>Graduate</td>\n",
       "      <td>STEM</td>\n",
       "      <td>NaN</td>\n",
       "      <td>50-99</td>\n",
       "      <td>Pvt Ltd</td>\n",
       "      <td>NaN</td>\n",
       "      <td>NaN</td>\n",
       "    </tr>\n",
       "    <tr>\n",
       "      <th>freq</th>\n",
       "      <td>NaN</td>\n",
       "      <td>2303</td>\n",
       "      <td>NaN</td>\n",
       "      <td>7597</td>\n",
       "      <td>7396</td>\n",
       "      <td>7154</td>\n",
       "      <td>5889</td>\n",
       "      <td>7522</td>\n",
       "      <td>NaN</td>\n",
       "      <td>1861</td>\n",
       "      <td>6400</td>\n",
       "      <td>NaN</td>\n",
       "      <td>NaN</td>\n",
       "    </tr>\n",
       "    <tr>\n",
       "      <th>mean</th>\n",
       "      <td>16843.847641</td>\n",
       "      <td>NaN</td>\n",
       "      <td>0.844963</td>\n",
       "      <td>NaN</td>\n",
       "      <td>NaN</td>\n",
       "      <td>NaN</td>\n",
       "      <td>NaN</td>\n",
       "      <td>NaN</td>\n",
       "      <td>11.433246</td>\n",
       "      <td>NaN</td>\n",
       "      <td>NaN</td>\n",
       "      <td>64.870880</td>\n",
       "      <td>0.165283</td>\n",
       "    </tr>\n",
       "    <tr>\n",
       "      <th>std</th>\n",
       "      <td>9956.846056</td>\n",
       "      <td>NaN</td>\n",
       "      <td>0.115827</td>\n",
       "      <td>NaN</td>\n",
       "      <td>NaN</td>\n",
       "      <td>NaN</td>\n",
       "      <td>NaN</td>\n",
       "      <td>NaN</td>\n",
       "      <td>6.256778</td>\n",
       "      <td>NaN</td>\n",
       "      <td>NaN</td>\n",
       "      <td>59.953755</td>\n",
       "      <td>0.371458</td>\n",
       "    </tr>\n",
       "    <tr>\n",
       "      <th>min</th>\n",
       "      <td>2.000000</td>\n",
       "      <td>NaN</td>\n",
       "      <td>0.448000</td>\n",
       "      <td>NaN</td>\n",
       "      <td>NaN</td>\n",
       "      <td>NaN</td>\n",
       "      <td>NaN</td>\n",
       "      <td>NaN</td>\n",
       "      <td>0.000000</td>\n",
       "      <td>NaN</td>\n",
       "      <td>NaN</td>\n",
       "      <td>1.000000</td>\n",
       "      <td>0.000000</td>\n",
       "    </tr>\n",
       "    <tr>\n",
       "      <th>25%</th>\n",
       "      <td>8129.250000</td>\n",
       "      <td>NaN</td>\n",
       "      <td>0.794000</td>\n",
       "      <td>NaN</td>\n",
       "      <td>NaN</td>\n",
       "      <td>NaN</td>\n",
       "      <td>NaN</td>\n",
       "      <td>NaN</td>\n",
       "      <td>6.000000</td>\n",
       "      <td>NaN</td>\n",
       "      <td>NaN</td>\n",
       "      <td>23.000000</td>\n",
       "      <td>0.000000</td>\n",
       "    </tr>\n",
       "    <tr>\n",
       "      <th>50%</th>\n",
       "      <td>16883.000000</td>\n",
       "      <td>NaN</td>\n",
       "      <td>0.910000</td>\n",
       "      <td>NaN</td>\n",
       "      <td>NaN</td>\n",
       "      <td>NaN</td>\n",
       "      <td>NaN</td>\n",
       "      <td>NaN</td>\n",
       "      <td>10.000000</td>\n",
       "      <td>NaN</td>\n",
       "      <td>NaN</td>\n",
       "      <td>47.000000</td>\n",
       "      <td>0.000000</td>\n",
       "    </tr>\n",
       "    <tr>\n",
       "      <th>75%</th>\n",
       "      <td>25874.500000</td>\n",
       "      <td>NaN</td>\n",
       "      <td>0.920000</td>\n",
       "      <td>NaN</td>\n",
       "      <td>NaN</td>\n",
       "      <td>NaN</td>\n",
       "      <td>NaN</td>\n",
       "      <td>NaN</td>\n",
       "      <td>18.000000</td>\n",
       "      <td>NaN</td>\n",
       "      <td>NaN</td>\n",
       "      <td>87.000000</td>\n",
       "      <td>0.000000</td>\n",
       "    </tr>\n",
       "    <tr>\n",
       "      <th>max</th>\n",
       "      <td>33380.000000</td>\n",
       "      <td>NaN</td>\n",
       "      <td>0.949000</td>\n",
       "      <td>NaN</td>\n",
       "      <td>NaN</td>\n",
       "      <td>NaN</td>\n",
       "      <td>NaN</td>\n",
       "      <td>NaN</td>\n",
       "      <td>20.000000</td>\n",
       "      <td>NaN</td>\n",
       "      <td>NaN</td>\n",
       "      <td>336.000000</td>\n",
       "      <td>1.000000</td>\n",
       "    </tr>\n",
       "  </tbody>\n",
       "</table>\n",
       "</div>"
      ],
      "text/plain": [
       "         enrollee_id      city  city_development_index gender  \\\n",
       "count    8434.000000      8434             8434.000000   8434   \n",
       "unique           NaN       116                     NaN      3   \n",
       "top              NaN  city_103                     NaN   Male   \n",
       "freq             NaN      2303                     NaN   7597   \n",
       "mean    16843.847641       NaN                0.844963    NaN   \n",
       "std      9956.846056       NaN                0.115827    NaN   \n",
       "min         2.000000       NaN                0.448000    NaN   \n",
       "25%      8129.250000       NaN                0.794000    NaN   \n",
       "50%     16883.000000       NaN                0.910000    NaN   \n",
       "75%     25874.500000       NaN                0.920000    NaN   \n",
       "max     33380.000000       NaN                0.949000    NaN   \n",
       "\n",
       "            relevent_experience enrolled_university education_level  \\\n",
       "count                      8434                8434            8434   \n",
       "unique                        2                   3               3   \n",
       "top     Has relevent experience       no_enrollment        Graduate   \n",
       "freq                       7396                7154            5889   \n",
       "mean                        NaN                 NaN             NaN   \n",
       "std                         NaN                 NaN             NaN   \n",
       "min                         NaN                 NaN             NaN   \n",
       "25%                         NaN                 NaN             NaN   \n",
       "50%                         NaN                 NaN             NaN   \n",
       "75%                         NaN                 NaN             NaN   \n",
       "max                         NaN                 NaN             NaN   \n",
       "\n",
       "       major_discipline   experience company_size company_type  \\\n",
       "count              8434  8434.000000         8434         8434   \n",
       "unique                6          NaN            8            6   \n",
       "top                STEM          NaN        50-99      Pvt Ltd   \n",
       "freq               7522          NaN         1861         6400   \n",
       "mean                NaN    11.433246          NaN          NaN   \n",
       "std                 NaN     6.256778          NaN          NaN   \n",
       "min                 NaN     0.000000          NaN          NaN   \n",
       "25%                 NaN     6.000000          NaN          NaN   \n",
       "50%                 NaN    10.000000          NaN          NaN   \n",
       "75%                 NaN    18.000000          NaN          NaN   \n",
       "max                 NaN    20.000000          NaN          NaN   \n",
       "\n",
       "        training_hours       target  \n",
       "count      8434.000000  8434.000000  \n",
       "unique             NaN          NaN  \n",
       "top                NaN          NaN  \n",
       "freq               NaN          NaN  \n",
       "mean         64.870880     0.165283  \n",
       "std          59.953755     0.371458  \n",
       "min           1.000000     0.000000  \n",
       "25%          23.000000     0.000000  \n",
       "50%          47.000000     0.000000  \n",
       "75%          87.000000     0.000000  \n",
       "max         336.000000     1.000000  "
      ]
     },
     "execution_count": 11,
     "metadata": {},
     "output_type": "execute_result"
    }
   ],
   "source": [
    "df.describe(include = 'all')"
   ]
  },
  {
   "cell_type": "code",
   "execution_count": 12,
   "id": "f601e426-d35b-4590-a3bb-d9cb99d48698",
   "metadata": {},
   "outputs": [
    {
     "name": "stdout",
     "output_type": "stream",
     "text": [
      "city : ['city_40' 'city_162' 'city_46' 'city_103' 'city_61' 'city_114' 'city_159'\n",
      " 'city_21' 'city_160' 'city_16' 'city_83' 'city_64' 'city_105' 'city_73'\n",
      " 'city_75' 'city_100' 'city_67' 'city_13' 'city_36' 'city_71' 'city_57'\n",
      " 'city_65' 'city_11' 'city_136' 'city_97' 'city_50' 'city_173' 'city_82'\n",
      " 'city_89' 'city_150' 'city_90' 'city_98' 'city_28' 'city_115' 'city_94'\n",
      " 'city_165' 'city_142' 'city_12' 'city_43' 'city_74' 'city_102' 'city_116'\n",
      " 'city_99' 'city_23' 'city_138' 'city_45' 'city_72' 'city_19' 'city_101'\n",
      " 'city_20' 'city_106' 'city_10' 'city_104' 'city_157' 'city_144' 'city_91'\n",
      " 'city_133' 'city_41' 'city_145' 'city_123' 'city_175' 'city_128'\n",
      " 'city_167' 'city_84' 'city_54' 'city_126' 'city_81' 'city_176' 'city_131'\n",
      " 'city_149' 'city_24' 'city_27' 'city_118' 'city_152' 'city_93' 'city_141'\n",
      " 'city_76' 'city_70' 'city_143' 'city_78' 'city_53' 'city_158' 'city_2'\n",
      " 'city_77' 'city_117' 'city_120' 'city_9' 'city_39' 'city_80' 'city_155'\n",
      " 'city_179' 'city_37' 'city_30' 'city_44' 'city_14' 'city_55' 'city_42'\n",
      " 'city_1' 'city_59' 'city_69' 'city_7' 'city_134' 'city_109' 'city_26'\n",
      " 'city_62' 'city_18' 'city_127' 'city_33' 'city_146' 'city_107' 'city_166'\n",
      " 'city_121' 'city_129' 'city_48' 'city_139' 'city_25']\n",
      "gender : ['Male' 'Female' 'Other']\n",
      "relevent_experience : ['No relevent experience' 'Has relevent experience']\n",
      "enrolled_university : ['no_enrollment' 'Part time course' 'Full time course']\n",
      "education_level : ['Graduate' 'Masters' 'Phd']\n",
      "major_discipline : ['STEM' 'Humanities' 'Business Degree' 'Other' 'No Major' 'Arts']\n",
      "company_size : ['50-99' '<10' '5000-9999' '1000-4999' '10/49' '100-500' '10000+'\n",
      " '500-999']\n",
      "company_type : ['Pvt Ltd' 'Funded Startup' 'Public Sector' 'Early Stage Startup' 'NGO'\n",
      " 'Other']\n"
     ]
    }
   ],
   "source": [
    "for col in df.select_dtypes(include = ['object']).columns:\n",
    "    print(f\"{col} : {df[col].unique()}\")"
   ]
  },
  {
   "cell_type": "code",
   "execution_count": null,
   "id": "44bdbfff-c22d-4862-903a-ca63a13e05f3",
   "metadata": {},
   "outputs": [],
   "source": []
  },
  {
   "cell_type": "code",
   "execution_count": 13,
   "id": "1557a959-82e1-4a9e-bc79-e6258c79e270",
   "metadata": {},
   "outputs": [],
   "source": [
    "list = df.columns"
   ]
  },
  {
   "cell_type": "code",
   "execution_count": 14,
   "id": "7ab26af4-ec73-48a3-b988-0cb4951b8e18",
   "metadata": {},
   "outputs": [
    {
     "data": {
      "text/plain": [
       "enrollee_id                 int64\n",
       "city                       object\n",
       "city_development_index    float64\n",
       "gender                     object\n",
       "relevent_experience        object\n",
       "enrolled_university        object\n",
       "education_level            object\n",
       "major_discipline           object\n",
       "experience                float64\n",
       "company_size               object\n",
       "company_type               object\n",
       "training_hours            float64\n",
       "target                    float64\n",
       "dtype: object"
      ]
     },
     "execution_count": 14,
     "metadata": {},
     "output_type": "execute_result"
    }
   ],
   "source": [
    "df.dtypes"
   ]
  },
  {
   "cell_type": "code",
   "execution_count": 15,
   "id": "18e1203f-31d4-43fc-9ed5-24ef23912677",
   "metadata": {},
   "outputs": [],
   "source": [
    "list = df.select_dtypes(include = ['object']).columns"
   ]
  },
  {
   "cell_type": "code",
   "execution_count": 16,
   "id": "f4a71fa5-5a35-4b15-8ae6-80375d8d5c1c",
   "metadata": {},
   "outputs": [
    {
     "data": {
      "text/plain": [
       "Index(['city', 'gender', 'relevent_experience', 'enrolled_university',\n",
       "       'education_level', 'major_discipline', 'company_size', 'company_type'],\n",
       "      dtype='object')"
      ]
     },
     "execution_count": 16,
     "metadata": {},
     "output_type": "execute_result"
    }
   ],
   "source": [
    "list"
   ]
  },
  {
   "cell_type": "code",
   "execution_count": 17,
   "id": "ddd1319a-6a5b-4ad7-b55c-01a83069b214",
   "metadata": {},
   "outputs": [
    {
     "name": "stdout",
     "output_type": "stream",
     "text": [
      "city : ['city_40' 'city_162' 'city_46' 'city_103' 'city_61' 'city_114' 'city_159'\n",
      " 'city_21' 'city_160' 'city_16' 'city_83' 'city_64' 'city_105' 'city_73'\n",
      " 'city_75' 'city_100' 'city_67' 'city_13' 'city_36' 'city_71' 'city_57'\n",
      " 'city_65' 'city_11' 'city_136' 'city_97' 'city_50' 'city_173' 'city_82'\n",
      " 'city_89' 'city_150' 'city_90' 'city_98' 'city_28' 'city_115' 'city_94'\n",
      " 'city_165' 'city_142' 'city_12' 'city_43' 'city_74' 'city_102' 'city_116'\n",
      " 'city_99' 'city_23' 'city_138' 'city_45' 'city_72' 'city_19' 'city_101'\n",
      " 'city_20' 'city_106' 'city_10' 'city_104' 'city_157' 'city_144' 'city_91'\n",
      " 'city_133' 'city_41' 'city_145' 'city_123' 'city_175' 'city_128'\n",
      " 'city_167' 'city_84' 'city_54' 'city_126' 'city_81' 'city_176' 'city_131'\n",
      " 'city_149' 'city_24' 'city_27' 'city_118' 'city_152' 'city_93' 'city_141'\n",
      " 'city_76' 'city_70' 'city_143' 'city_78' 'city_53' 'city_158' 'city_2'\n",
      " 'city_77' 'city_117' 'city_120' 'city_9' 'city_39' 'city_80' 'city_155'\n",
      " 'city_179' 'city_37' 'city_30' 'city_44' 'city_14' 'city_55' 'city_42'\n",
      " 'city_1' 'city_59' 'city_69' 'city_7' 'city_134' 'city_109' 'city_26'\n",
      " 'city_62' 'city_18' 'city_127' 'city_33' 'city_146' 'city_107' 'city_166'\n",
      " 'city_121' 'city_129' 'city_48' 'city_139' 'city_25']\n",
      "gender : ['Male' 'Female' 'Other']\n",
      "relevent_experience : ['No relevent experience' 'Has relevent experience']\n",
      "enrolled_university : ['no_enrollment' 'Part time course' 'Full time course']\n",
      "education_level : ['Graduate' 'Masters' 'Phd']\n",
      "major_discipline : ['STEM' 'Humanities' 'Business Degree' 'Other' 'No Major' 'Arts']\n",
      "company_size : ['50-99' '<10' '5000-9999' '1000-4999' '10/49' '100-500' '10000+'\n",
      " '500-999']\n",
      "company_type : ['Pvt Ltd' 'Funded Startup' 'Public Sector' 'Early Stage Startup' 'NGO'\n",
      " 'Other']\n"
     ]
    }
   ],
   "source": [
    "for col in list:\n",
    "    print(f'{col} : {df[col].unique()}')"
   ]
  },
  {
   "cell_type": "markdown",
   "id": "a3982b7c-f823-47af-a8f8-7be4d0db39bd",
   "metadata": {},
   "source": [
    "# Data Visualization "
   ]
  },
  {
   "cell_type": "code",
   "execution_count": 19,
   "id": "d2b8f75e-a17d-4be4-9484-7766b75e7e6a",
   "metadata": {},
   "outputs": [],
   "source": [
    "import matplotlib.pyplot as plt \n",
    "import seaborn as sns"
   ]
  },
  {
   "cell_type": "code",
   "execution_count": 20,
   "id": "216a5bde-910d-4e91-b7fd-87ecb4d2e1c8",
   "metadata": {},
   "outputs": [
    {
     "data": {
      "text/html": [
       "<div>\n",
       "<style scoped>\n",
       "    .dataframe tbody tr th:only-of-type {\n",
       "        vertical-align: middle;\n",
       "    }\n",
       "\n",
       "    .dataframe tbody tr th {\n",
       "        vertical-align: top;\n",
       "    }\n",
       "\n",
       "    .dataframe thead th {\n",
       "        text-align: right;\n",
       "    }\n",
       "</style>\n",
       "<table border=\"1\" class=\"dataframe\">\n",
       "  <thead>\n",
       "    <tr style=\"text-align: right;\">\n",
       "      <th></th>\n",
       "      <th>enrollee_id</th>\n",
       "      <th>city</th>\n",
       "      <th>city_development_index</th>\n",
       "      <th>gender</th>\n",
       "      <th>relevent_experience</th>\n",
       "      <th>enrolled_university</th>\n",
       "      <th>education_level</th>\n",
       "      <th>major_discipline</th>\n",
       "      <th>experience</th>\n",
       "      <th>company_size</th>\n",
       "      <th>company_type</th>\n",
       "      <th>training_hours</th>\n",
       "      <th>target</th>\n",
       "    </tr>\n",
       "  </thead>\n",
       "  <tbody>\n",
       "    <tr>\n",
       "      <th>1</th>\n",
       "      <td>29725</td>\n",
       "      <td>city_40</td>\n",
       "      <td>0.776</td>\n",
       "      <td>Male</td>\n",
       "      <td>No relevent experience</td>\n",
       "      <td>no_enrollment</td>\n",
       "      <td>Graduate</td>\n",
       "      <td>STEM</td>\n",
       "      <td>15.0</td>\n",
       "      <td>50-99</td>\n",
       "      <td>Pvt Ltd</td>\n",
       "      <td>47.0</td>\n",
       "      <td>0.0</td>\n",
       "    </tr>\n",
       "    <tr>\n",
       "      <th>4</th>\n",
       "      <td>666</td>\n",
       "      <td>city_162</td>\n",
       "      <td>0.767</td>\n",
       "      <td>Male</td>\n",
       "      <td>Has relevent experience</td>\n",
       "      <td>no_enrollment</td>\n",
       "      <td>Masters</td>\n",
       "      <td>STEM</td>\n",
       "      <td>20.0</td>\n",
       "      <td>50-99</td>\n",
       "      <td>Funded Startup</td>\n",
       "      <td>8.0</td>\n",
       "      <td>0.0</td>\n",
       "    </tr>\n",
       "    <tr>\n",
       "      <th>7</th>\n",
       "      <td>402</td>\n",
       "      <td>city_46</td>\n",
       "      <td>0.762</td>\n",
       "      <td>Male</td>\n",
       "      <td>Has relevent experience</td>\n",
       "      <td>no_enrollment</td>\n",
       "      <td>Graduate</td>\n",
       "      <td>STEM</td>\n",
       "      <td>13.0</td>\n",
       "      <td>&lt;10</td>\n",
       "      <td>Pvt Ltd</td>\n",
       "      <td>18.0</td>\n",
       "      <td>1.0</td>\n",
       "    </tr>\n",
       "    <tr>\n",
       "      <th>8</th>\n",
       "      <td>27107</td>\n",
       "      <td>city_103</td>\n",
       "      <td>0.920</td>\n",
       "      <td>Male</td>\n",
       "      <td>Has relevent experience</td>\n",
       "      <td>no_enrollment</td>\n",
       "      <td>Graduate</td>\n",
       "      <td>STEM</td>\n",
       "      <td>7.0</td>\n",
       "      <td>50-99</td>\n",
       "      <td>Pvt Ltd</td>\n",
       "      <td>46.0</td>\n",
       "      <td>1.0</td>\n",
       "    </tr>\n",
       "    <tr>\n",
       "      <th>11</th>\n",
       "      <td>23853</td>\n",
       "      <td>city_103</td>\n",
       "      <td>0.920</td>\n",
       "      <td>Male</td>\n",
       "      <td>Has relevent experience</td>\n",
       "      <td>no_enrollment</td>\n",
       "      <td>Graduate</td>\n",
       "      <td>STEM</td>\n",
       "      <td>5.0</td>\n",
       "      <td>5000-9999</td>\n",
       "      <td>Pvt Ltd</td>\n",
       "      <td>108.0</td>\n",
       "      <td>0.0</td>\n",
       "    </tr>\n",
       "  </tbody>\n",
       "</table>\n",
       "</div>"
      ],
      "text/plain": [
       "    enrollee_id      city  city_development_index gender  \\\n",
       "1         29725   city_40                   0.776   Male   \n",
       "4           666  city_162                   0.767   Male   \n",
       "7           402   city_46                   0.762   Male   \n",
       "8         27107  city_103                   0.920   Male   \n",
       "11        23853  city_103                   0.920   Male   \n",
       "\n",
       "        relevent_experience enrolled_university education_level  \\\n",
       "1    No relevent experience       no_enrollment        Graduate   \n",
       "4   Has relevent experience       no_enrollment         Masters   \n",
       "7   Has relevent experience       no_enrollment        Graduate   \n",
       "8   Has relevent experience       no_enrollment        Graduate   \n",
       "11  Has relevent experience       no_enrollment        Graduate   \n",
       "\n",
       "   major_discipline  experience company_size    company_type  training_hours  \\\n",
       "1              STEM        15.0        50-99         Pvt Ltd            47.0   \n",
       "4              STEM        20.0        50-99  Funded Startup             8.0   \n",
       "7              STEM        13.0          <10         Pvt Ltd            18.0   \n",
       "8              STEM         7.0        50-99         Pvt Ltd            46.0   \n",
       "11             STEM         5.0    5000-9999         Pvt Ltd           108.0   \n",
       "\n",
       "    target  \n",
       "1      0.0  \n",
       "4      0.0  \n",
       "7      1.0  \n",
       "8      1.0  \n",
       "11     0.0  "
      ]
     },
     "execution_count": 20,
     "metadata": {},
     "output_type": "execute_result"
    }
   ],
   "source": [
    "df.head()"
   ]
  },
  {
   "cell_type": "code",
   "execution_count": 21,
   "id": "03793eb3-4b08-4bad-899a-b14042212854",
   "metadata": {},
   "outputs": [
    {
     "data": {
      "text/plain": [
       "gender\n",
       "Male      0.900759\n",
       "Female    0.090467\n",
       "Other     0.008774\n",
       "Name: proportion, dtype: float64"
      ]
     },
     "execution_count": 21,
     "metadata": {},
     "output_type": "execute_result"
    }
   ],
   "source": [
    "df['gender'].value_counts(normalize = True)"
   ]
  },
  {
   "cell_type": "code",
   "execution_count": 22,
   "id": "6466e609-04a9-4aea-b988-9567367ee78e",
   "metadata": {},
   "outputs": [
    {
     "data": {
      "image/png": "[encoded data removed]",
      "text/plain": [
       "<Figure size 600x400 with 1 Axes>"
      ]
     },
     "metadata": {},
     "output_type": "display_data"
    }
   ],
   "source": [
    "plt.figure(figsize = (6,4))\n",
    "plt.title('Gender Classification')\n",
    "plt.bar(['Male','Female','Others'], df['gender'].value_counts())\n",
    "plt.show()"
   ]
  },
  {
   "cell_type": "code",
   "execution_count": 23,
   "id": "daf9a291-5b53-472b-b3ae-2d1752997997",
   "metadata": {},
   "outputs": [
    {
     "data": {
      "image/png": "[encoded data removed]",
      "text/plain": [
       "<Figure size 600x400 with 1 Axes>"
      ]
     },
     "metadata": {},
     "output_type": "display_data"
    }
   ],
   "source": [
    "plt.figure(figsize = (6,4))\n",
    "plt.title('Gender Classification')\n",
    "sns.countplot(x = 'gender', data = df)\n",
    "plt.show()"
   ]
  },
  {
   "cell_type": "code",
   "execution_count": 24,
   "id": "c04ff9a3-33d2-4c26-a386-50c4d8f9b25b",
   "metadata": {},
   "outputs": [
    {
     "data": {
      "text/plain": [
       "<Axes: ylabel='Frequency'>"
      ]
     },
     "execution_count": 24,
     "metadata": {},
     "output_type": "execute_result"
    },
    {
     "data": {
      "image/png": "[encoded data removed]",
      "text/plain": [
       "<Figure size 640x480 with 1 Axes>"
      ]
     },
     "metadata": {},
     "output_type": "display_data"
    }
   ],
   "source": [
    "df['training_hours'].plot(kind = 'hist')"
   ]
  },
  {
   "cell_type": "code",
   "execution_count": 25,
   "id": "9891ad80-4eaa-4201-b553-9d5912bacb39",
   "metadata": {},
   "outputs": [
    {
     "data": {
      "text/plain": [
       "<Axes: xlabel='training_hours'>"
      ]
     },
     "execution_count": 25,
     "metadata": {},
     "output_type": "execute_result"
    },
    {
     "data": {
      "image/png": "[encoded data removed]",
      "text/plain": [
       "<Figure size 640x480 with 1 Axes>"
      ]
     },
     "metadata": {},
     "output_type": "display_data"
    }
   ],
   "source": [
    "sns.boxplot(data = df, x = 'training_hours')"
   ]
  },
  {
   "cell_type": "code",
   "execution_count": 26,
   "id": "64521f3b-f9c6-48a6-b919-5c0b1cc6876b",
   "metadata": {},
   "outputs": [
    {
     "data": {
      "text/html": [
       "<div>\n",
       "<style scoped>\n",
       "    .dataframe tbody tr th:only-of-type {\n",
       "        vertical-align: middle;\n",
       "    }\n",
       "\n",
       "    .dataframe tbody tr th {\n",
       "        vertical-align: top;\n",
       "    }\n",
       "\n",
       "    .dataframe thead th {\n",
       "        text-align: right;\n",
       "    }\n",
       "</style>\n",
       "<table border=\"1\" class=\"dataframe\">\n",
       "  <thead>\n",
       "    <tr style=\"text-align: right;\">\n",
       "      <th></th>\n",
       "      <th>enrollee_id</th>\n",
       "      <th>city</th>\n",
       "      <th>city_development_index</th>\n",
       "      <th>gender</th>\n",
       "      <th>relevent_experience</th>\n",
       "      <th>enrolled_university</th>\n",
       "      <th>education_level</th>\n",
       "      <th>major_discipline</th>\n",
       "      <th>experience</th>\n",
       "      <th>company_size</th>\n",
       "      <th>company_type</th>\n",
       "      <th>training_hours</th>\n",
       "      <th>target</th>\n",
       "    </tr>\n",
       "  </thead>\n",
       "  <tbody>\n",
       "    <tr>\n",
       "      <th>1</th>\n",
       "      <td>29725</td>\n",
       "      <td>city_40</td>\n",
       "      <td>0.776</td>\n",
       "      <td>Male</td>\n",
       "      <td>No relevent experience</td>\n",
       "      <td>no_enrollment</td>\n",
       "      <td>Graduate</td>\n",
       "      <td>STEM</td>\n",
       "      <td>15.0</td>\n",
       "      <td>50-99</td>\n",
       "      <td>Pvt Ltd</td>\n",
       "      <td>47.0</td>\n",
       "      <td>0.0</td>\n",
       "    </tr>\n",
       "    <tr>\n",
       "      <th>4</th>\n",
       "      <td>666</td>\n",
       "      <td>city_162</td>\n",
       "      <td>0.767</td>\n",
       "      <td>Male</td>\n",
       "      <td>Has relevent experience</td>\n",
       "      <td>no_enrollment</td>\n",
       "      <td>Masters</td>\n",
       "      <td>STEM</td>\n",
       "      <td>20.0</td>\n",
       "      <td>50-99</td>\n",
       "      <td>Funded Startup</td>\n",
       "      <td>8.0</td>\n",
       "      <td>0.0</td>\n",
       "    </tr>\n",
       "    <tr>\n",
       "      <th>7</th>\n",
       "      <td>402</td>\n",
       "      <td>city_46</td>\n",
       "      <td>0.762</td>\n",
       "      <td>Male</td>\n",
       "      <td>Has relevent experience</td>\n",
       "      <td>no_enrollment</td>\n",
       "      <td>Graduate</td>\n",
       "      <td>STEM</td>\n",
       "      <td>13.0</td>\n",
       "      <td>&lt;10</td>\n",
       "      <td>Pvt Ltd</td>\n",
       "      <td>18.0</td>\n",
       "      <td>1.0</td>\n",
       "    </tr>\n",
       "    <tr>\n",
       "      <th>8</th>\n",
       "      <td>27107</td>\n",
       "      <td>city_103</td>\n",
       "      <td>0.920</td>\n",
       "      <td>Male</td>\n",
       "      <td>Has relevent experience</td>\n",
       "      <td>no_enrollment</td>\n",
       "      <td>Graduate</td>\n",
       "      <td>STEM</td>\n",
       "      <td>7.0</td>\n",
       "      <td>50-99</td>\n",
       "      <td>Pvt Ltd</td>\n",
       "      <td>46.0</td>\n",
       "      <td>1.0</td>\n",
       "    </tr>\n",
       "    <tr>\n",
       "      <th>11</th>\n",
       "      <td>23853</td>\n",
       "      <td>city_103</td>\n",
       "      <td>0.920</td>\n",
       "      <td>Male</td>\n",
       "      <td>Has relevent experience</td>\n",
       "      <td>no_enrollment</td>\n",
       "      <td>Graduate</td>\n",
       "      <td>STEM</td>\n",
       "      <td>5.0</td>\n",
       "      <td>5000-9999</td>\n",
       "      <td>Pvt Ltd</td>\n",
       "      <td>108.0</td>\n",
       "      <td>0.0</td>\n",
       "    </tr>\n",
       "  </tbody>\n",
       "</table>\n",
       "</div>"
      ],
      "text/plain": [
       "    enrollee_id      city  city_development_index gender  \\\n",
       "1         29725   city_40                   0.776   Male   \n",
       "4           666  city_162                   0.767   Male   \n",
       "7           402   city_46                   0.762   Male   \n",
       "8         27107  city_103                   0.920   Male   \n",
       "11        23853  city_103                   0.920   Male   \n",
       "\n",
       "        relevent_experience enrolled_university education_level  \\\n",
       "1    No relevent experience       no_enrollment        Graduate   \n",
       "4   Has relevent experience       no_enrollment         Masters   \n",
       "7   Has relevent experience       no_enrollment        Graduate   \n",
       "8   Has relevent experience       no_enrollment        Graduate   \n",
       "11  Has relevent experience       no_enrollment        Graduate   \n",
       "\n",
       "   major_discipline  experience company_size    company_type  training_hours  \\\n",
       "1              STEM        15.0        50-99         Pvt Ltd            47.0   \n",
       "4              STEM        20.0        50-99  Funded Startup             8.0   \n",
       "7              STEM        13.0          <10         Pvt Ltd            18.0   \n",
       "8              STEM         7.0        50-99         Pvt Ltd            46.0   \n",
       "11             STEM         5.0    5000-9999         Pvt Ltd           108.0   \n",
       "\n",
       "    target  \n",
       "1      0.0  \n",
       "4      0.0  \n",
       "7      1.0  \n",
       "8      1.0  \n",
       "11     0.0  "
      ]
     },
     "execution_count": 26,
     "metadata": {},
     "output_type": "execute_result"
    }
   ],
   "source": [
    "df.head()"
   ]
  },
  {
   "cell_type": "code",
   "execution_count": 27,
   "id": "ceb0a7d1-a302-4b16-a5c4-5ea4f61ed193",
   "metadata": {},
   "outputs": [],
   "source": [
    "list = df['city'].unique()"
   ]
  },
  {
   "cell_type": "code",
   "execution_count": 28,
   "id": "5a567916-455b-4bfd-b70f-9f4e7ac2964c",
   "metadata": {},
   "outputs": [
    {
     "data": {
      "text/plain": [
       "116"
      ]
     },
     "execution_count": 28,
     "metadata": {},
     "output_type": "execute_result"
    }
   ],
   "source": [
    "list.size"
   ]
  },
  {
   "cell_type": "code",
   "execution_count": 29,
   "id": "6b00f657-c46d-4474-ba4c-db9ee3d00ebb",
   "metadata": {},
   "outputs": [
    {
     "data": {
      "text/plain": [
       "education_level\n",
       "Graduate    5889\n",
       "Masters     2304\n",
       "Phd          241\n",
       "Name: count, dtype: int64"
      ]
     },
     "execution_count": 29,
     "metadata": {},
     "output_type": "execute_result"
    }
   ],
   "source": [
    "df['education_level'].value_counts()"
   ]
  },
  {
   "cell_type": "code",
   "execution_count": 30,
   "id": "8e02ad17-6943-4aa0-b3ad-ddc04cd066db",
   "metadata": {},
   "outputs": [
    {
     "data": {
      "text/plain": [
       "<BarContainer object of 3 artists>"
      ]
     },
     "execution_count": 30,
     "metadata": {},
     "output_type": "execute_result"
    },
    {
     "data": {
      "image/png": "[encoded data removed]",
      "text/plain": [
       "<Figure size 640x480 with 1 Axes>"
      ]
     },
     "metadata": {},
     "output_type": "display_data"
    }
   ],
   "source": [
    "plt.bar(['Graduate','Master','PHD'], df['education_level'].value_counts())"
   ]
  },
  {
   "cell_type": "code",
   "execution_count": 31,
   "id": "1183b926-661b-4854-ad75-d0df3e2d9327",
   "metadata": {
    "scrolled": true
   },
   "outputs": [
    {
     "data": {
      "image/png": "[encoded data removed]",
      "text/plain": [
       "<Figure size 600x400 with 1 Axes>"
      ]
     },
     "metadata": {},
     "output_type": "display_data"
    }
   ],
   "source": [
    "plt.figure(figsize = (6,4))\n",
    "myexplode = [0.2, 0, 0]\n",
    "plt.pie(df['education_level'].value_counts(),  autopct='%1.1f%%', explode = myexplode)\n",
    "plt.show()"
   ]
  },
  {
   "cell_type": "code",
   "execution_count": 32,
   "id": "652e478d-f456-4320-a69b-85652f3359a6",
   "metadata": {},
   "outputs": [
    {
     "data": {
      "text/html": [
       "<div>\n",
       "<style scoped>\n",
       "    .dataframe tbody tr th:only-of-type {\n",
       "        vertical-align: middle;\n",
       "    }\n",
       "\n",
       "    .dataframe tbody tr th {\n",
       "        vertical-align: top;\n",
       "    }\n",
       "\n",
       "    .dataframe thead th {\n",
       "        text-align: right;\n",
       "    }\n",
       "</style>\n",
       "<table border=\"1\" class=\"dataframe\">\n",
       "  <thead>\n",
       "    <tr style=\"text-align: right;\">\n",
       "      <th></th>\n",
       "      <th>enrollee_id</th>\n",
       "      <th>city</th>\n",
       "      <th>city_development_index</th>\n",
       "      <th>gender</th>\n",
       "      <th>relevent_experience</th>\n",
       "      <th>enrolled_university</th>\n",
       "      <th>education_level</th>\n",
       "      <th>major_discipline</th>\n",
       "      <th>experience</th>\n",
       "      <th>company_size</th>\n",
       "      <th>company_type</th>\n",
       "      <th>training_hours</th>\n",
       "      <th>target</th>\n",
       "    </tr>\n",
       "  </thead>\n",
       "  <tbody>\n",
       "    <tr>\n",
       "      <th>1</th>\n",
       "      <td>29725</td>\n",
       "      <td>city_40</td>\n",
       "      <td>0.776</td>\n",
       "      <td>Male</td>\n",
       "      <td>No relevent experience</td>\n",
       "      <td>no_enrollment</td>\n",
       "      <td>Graduate</td>\n",
       "      <td>STEM</td>\n",
       "      <td>15.0</td>\n",
       "      <td>50-99</td>\n",
       "      <td>Pvt Ltd</td>\n",
       "      <td>47.0</td>\n",
       "      <td>0.0</td>\n",
       "    </tr>\n",
       "    <tr>\n",
       "      <th>4</th>\n",
       "      <td>666</td>\n",
       "      <td>city_162</td>\n",
       "      <td>0.767</td>\n",
       "      <td>Male</td>\n",
       "      <td>Has relevent experience</td>\n",
       "      <td>no_enrollment</td>\n",
       "      <td>Masters</td>\n",
       "      <td>STEM</td>\n",
       "      <td>20.0</td>\n",
       "      <td>50-99</td>\n",
       "      <td>Funded Startup</td>\n",
       "      <td>8.0</td>\n",
       "      <td>0.0</td>\n",
       "    </tr>\n",
       "    <tr>\n",
       "      <th>7</th>\n",
       "      <td>402</td>\n",
       "      <td>city_46</td>\n",
       "      <td>0.762</td>\n",
       "      <td>Male</td>\n",
       "      <td>Has relevent experience</td>\n",
       "      <td>no_enrollment</td>\n",
       "      <td>Graduate</td>\n",
       "      <td>STEM</td>\n",
       "      <td>13.0</td>\n",
       "      <td>&lt;10</td>\n",
       "      <td>Pvt Ltd</td>\n",
       "      <td>18.0</td>\n",
       "      <td>1.0</td>\n",
       "    </tr>\n",
       "    <tr>\n",
       "      <th>8</th>\n",
       "      <td>27107</td>\n",
       "      <td>city_103</td>\n",
       "      <td>0.920</td>\n",
       "      <td>Male</td>\n",
       "      <td>Has relevent experience</td>\n",
       "      <td>no_enrollment</td>\n",
       "      <td>Graduate</td>\n",
       "      <td>STEM</td>\n",
       "      <td>7.0</td>\n",
       "      <td>50-99</td>\n",
       "      <td>Pvt Ltd</td>\n",
       "      <td>46.0</td>\n",
       "      <td>1.0</td>\n",
       "    </tr>\n",
       "    <tr>\n",
       "      <th>11</th>\n",
       "      <td>23853</td>\n",
       "      <td>city_103</td>\n",
       "      <td>0.920</td>\n",
       "      <td>Male</td>\n",
       "      <td>Has relevent experience</td>\n",
       "      <td>no_enrollment</td>\n",
       "      <td>Graduate</td>\n",
       "      <td>STEM</td>\n",
       "      <td>5.0</td>\n",
       "      <td>5000-9999</td>\n",
       "      <td>Pvt Ltd</td>\n",
       "      <td>108.0</td>\n",
       "      <td>0.0</td>\n",
       "    </tr>\n",
       "  </tbody>\n",
       "</table>\n",
       "</div>"
      ],
      "text/plain": [
       "    enrollee_id      city  city_development_index gender  \\\n",
       "1         29725   city_40                   0.776   Male   \n",
       "4           666  city_162                   0.767   Male   \n",
       "7           402   city_46                   0.762   Male   \n",
       "8         27107  city_103                   0.920   Male   \n",
       "11        23853  city_103                   0.920   Male   \n",
       "\n",
       "        relevent_experience enrolled_university education_level  \\\n",
       "1    No relevent experience       no_enrollment        Graduate   \n",
       "4   Has relevent experience       no_enrollment         Masters   \n",
       "7   Has relevent experience       no_enrollment        Graduate   \n",
       "8   Has relevent experience       no_enrollment        Graduate   \n",
       "11  Has relevent experience       no_enrollment        Graduate   \n",
       "\n",
       "   major_discipline  experience company_size    company_type  training_hours  \\\n",
       "1              STEM        15.0        50-99         Pvt Ltd            47.0   \n",
       "4              STEM        20.0        50-99  Funded Startup             8.0   \n",
       "7              STEM        13.0          <10         Pvt Ltd            18.0   \n",
       "8              STEM         7.0        50-99         Pvt Ltd            46.0   \n",
       "11             STEM         5.0    5000-9999         Pvt Ltd           108.0   \n",
       "\n",
       "    target  \n",
       "1      0.0  \n",
       "4      0.0  \n",
       "7      1.0  \n",
       "8      1.0  \n",
       "11     0.0  "
      ]
     },
     "execution_count": 32,
     "metadata": {},
     "output_type": "execute_result"
    }
   ],
   "source": [
    "df.head(5)"
   ]
  },
  {
   "cell_type": "code",
   "execution_count": 33,
   "id": "8c62434b-e109-414b-9175-31ccb7318fbf",
   "metadata": {},
   "outputs": [
    {
     "data": {
      "text/plain": [
       "target\n",
       "0.0    7040\n",
       "1.0    1394\n",
       "Name: count, dtype: int64"
      ]
     },
     "execution_count": 33,
     "metadata": {},
     "output_type": "execute_result"
    }
   ],
   "source": [
    "df['target'].value_counts()"
   ]
  },
  {
   "cell_type": "code",
   "execution_count": 34,
   "id": "2195ae23-93cd-4abc-b60f-e26ecf3a6a25",
   "metadata": {},
   "outputs": [
    {
     "data": {
      "text/plain": [
       "<Axes: xlabel='target', ylabel='experience'>"
      ]
     },
     "execution_count": 34,
     "metadata": {},
     "output_type": "execute_result"
    },
    {
     "data": {
      "image/png": "[encoded data removed]",
      "text/plain": [
       "<Figure size 640x480 with 1 Axes>"
      ]
     },
     "metadata": {},
     "output_type": "display_data"
    }
   ],
   "source": [
    "sns.boxplot(data = df, x = 'target', y = 'experience')"
   ]
  },
  {
   "cell_type": "code",
   "execution_count": 91,
   "id": "257fd57e-6fd5-4c68-911f-2ff83b5d08db",
   "metadata": {},
   "outputs": [
    {
     "data": {
      "text/plain": [
       "<Axes: xlabel='experience', ylabel='target'>"
      ]
     },
     "execution_count": 91,
     "metadata": {},
     "output_type": "execute_result"
    },
    {
     "data": {
      "image/png": "[encoded data removed]",
      "text/plain": [
       "<Figure size 800x600 with 1 Axes>"
      ]
     },
     "metadata": {},
     "output_type": "display_data"
    }
   ],
   "source": [
    "\n",
    "plt.figure(figsize=(8, 6)) # Optional: Adjust figure size for better readability\n",
    "sns.lineplot(data=df, x='experience', y='target', marker='o') "
   ]
  },
  {
   "cell_type": "code",
   "execution_count": 93,
   "id": "6abb44eb-09b6-4f06-b765-cc5bc53d0342",
   "metadata": {},
   "outputs": [
    {
     "data": {
      "text/html": [
       "<div>\n",
       "<style scoped>\n",
       "    .dataframe tbody tr th:only-of-type {\n",
       "        vertical-align: middle;\n",
       "    }\n",
       "\n",
       "    .dataframe tbody tr th {\n",
       "        vertical-align: top;\n",
       "    }\n",
       "\n",
       "    .dataframe thead th {\n",
       "        text-align: right;\n",
       "    }\n",
       "</style>\n",
       "<table border=\"1\" class=\"dataframe\">\n",
       "  <thead>\n",
       "    <tr style=\"text-align: right;\">\n",
       "      <th></th>\n",
       "      <th>enrollee_id</th>\n",
       "      <th>city</th>\n",
       "      <th>city_development_index</th>\n",
       "      <th>gender</th>\n",
       "      <th>relevent_experience</th>\n",
       "      <th>enrolled_university</th>\n",
       "      <th>education_level</th>\n",
       "      <th>major_discipline</th>\n",
       "      <th>experience</th>\n",
       "      <th>company_size</th>\n",
       "      <th>company_type</th>\n",
       "      <th>training_hours</th>\n",
       "      <th>target</th>\n",
       "    </tr>\n",
       "  </thead>\n",
       "  <tbody>\n",
       "    <tr>\n",
       "      <th>1</th>\n",
       "      <td>29725</td>\n",
       "      <td>city_40</td>\n",
       "      <td>0.776</td>\n",
       "      <td>Male</td>\n",
       "      <td>No relevent experience</td>\n",
       "      <td>no_enrollment</td>\n",
       "      <td>Graduate</td>\n",
       "      <td>STEM</td>\n",
       "      <td>15.0</td>\n",
       "      <td>50-99</td>\n",
       "      <td>Pvt Ltd</td>\n",
       "      <td>47.0</td>\n",
       "      <td>0.0</td>\n",
       "    </tr>\n",
       "    <tr>\n",
       "      <th>4</th>\n",
       "      <td>666</td>\n",
       "      <td>city_162</td>\n",
       "      <td>0.767</td>\n",
       "      <td>Male</td>\n",
       "      <td>Has relevent experience</td>\n",
       "      <td>no_enrollment</td>\n",
       "      <td>Masters</td>\n",
       "      <td>STEM</td>\n",
       "      <td>20.0</td>\n",
       "      <td>50-99</td>\n",
       "      <td>Funded Startup</td>\n",
       "      <td>8.0</td>\n",
       "      <td>0.0</td>\n",
       "    </tr>\n",
       "    <tr>\n",
       "      <th>7</th>\n",
       "      <td>402</td>\n",
       "      <td>city_46</td>\n",
       "      <td>0.762</td>\n",
       "      <td>Male</td>\n",
       "      <td>Has relevent experience</td>\n",
       "      <td>no_enrollment</td>\n",
       "      <td>Graduate</td>\n",
       "      <td>STEM</td>\n",
       "      <td>13.0</td>\n",
       "      <td>&lt;10</td>\n",
       "      <td>Pvt Ltd</td>\n",
       "      <td>18.0</td>\n",
       "      <td>1.0</td>\n",
       "    </tr>\n",
       "    <tr>\n",
       "      <th>8</th>\n",
       "      <td>27107</td>\n",
       "      <td>city_103</td>\n",
       "      <td>0.920</td>\n",
       "      <td>Male</td>\n",
       "      <td>Has relevent experience</td>\n",
       "      <td>no_enrollment</td>\n",
       "      <td>Graduate</td>\n",
       "      <td>STEM</td>\n",
       "      <td>7.0</td>\n",
       "      <td>50-99</td>\n",
       "      <td>Pvt Ltd</td>\n",
       "      <td>46.0</td>\n",
       "      <td>1.0</td>\n",
       "    </tr>\n",
       "    <tr>\n",
       "      <th>11</th>\n",
       "      <td>23853</td>\n",
       "      <td>city_103</td>\n",
       "      <td>0.920</td>\n",
       "      <td>Male</td>\n",
       "      <td>Has relevent experience</td>\n",
       "      <td>no_enrollment</td>\n",
       "      <td>Graduate</td>\n",
       "      <td>STEM</td>\n",
       "      <td>5.0</td>\n",
       "      <td>5000-9999</td>\n",
       "      <td>Pvt Ltd</td>\n",
       "      <td>108.0</td>\n",
       "      <td>0.0</td>\n",
       "    </tr>\n",
       "  </tbody>\n",
       "</table>\n",
       "</div>"
      ],
      "text/plain": [
       "    enrollee_id      city  city_development_index gender  \\\n",
       "1         29725   city_40                   0.776   Male   \n",
       "4           666  city_162                   0.767   Male   \n",
       "7           402   city_46                   0.762   Male   \n",
       "8         27107  city_103                   0.920   Male   \n",
       "11        23853  city_103                   0.920   Male   \n",
       "\n",
       "        relevent_experience enrolled_university education_level  \\\n",
       "1    No relevent experience       no_enrollment        Graduate   \n",
       "4   Has relevent experience       no_enrollment         Masters   \n",
       "7   Has relevent experience       no_enrollment        Graduate   \n",
       "8   Has relevent experience       no_enrollment        Graduate   \n",
       "11  Has relevent experience       no_enrollment        Graduate   \n",
       "\n",
       "   major_discipline  experience company_size    company_type  training_hours  \\\n",
       "1              STEM        15.0        50-99         Pvt Ltd            47.0   \n",
       "4              STEM        20.0        50-99  Funded Startup             8.0   \n",
       "7              STEM        13.0          <10         Pvt Ltd            18.0   \n",
       "8              STEM         7.0        50-99         Pvt Ltd            46.0   \n",
       "11             STEM         5.0    5000-9999         Pvt Ltd           108.0   \n",
       "\n",
       "    target  \n",
       "1      0.0  \n",
       "4      0.0  \n",
       "7      1.0  \n",
       "8      1.0  \n",
       "11     0.0  "
      ]
     },
     "execution_count": 93,
     "metadata": {},
     "output_type": "execute_result"
    }
   ],
   "source": [
    "df.head()"
   ]
  },
  {
   "cell_type": "code",
   "execution_count": 115,
   "id": "ecbbde2b-c50a-4d8a-96ca-b24c46eda460",
   "metadata": {},
   "outputs": [
    {
     "data": {
      "image/png": "[encoded data removed]",
      "text/plain": [
       "<Figure size 640x480 with 1 Axes>"
      ]
     },
     "metadata": {},
     "output_type": "display_data"
    }
   ],
   "source": [
    "sns.barplot(data=df, x='relevent_experience', y='training_hours')\n",
    "plt.show()"
   ]
  },
  {
   "cell_type": "code",
   "execution_count": null,
   "id": "b8528559-38e4-4d7a-b779-1aa1e90fbfa7",
   "metadata": {},
   "outputs": [],
   "source": []
  }
 ],
 "metadata": {
  "kernelspec": {
   "display_name": "Python [conda env:base] *",
   "language": "python",
   "name": "conda-base-py"
  },
  "language_info": {
   "codemirror_mode": {
    "name": "ipython",
    "version": 3
   },
   "file_extension": ".py",
   "mimetype": "text/x-python",
   "name": "python",
   "nbconvert_exporter": "python",
   "pygments_lexer": "ipython3",
   "version": "3.12.3"
  }
 },
 "nbformat": 4,
 "nbformat_minor": 5
}
